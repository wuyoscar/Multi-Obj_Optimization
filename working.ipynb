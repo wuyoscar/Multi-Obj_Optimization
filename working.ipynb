{
 "cells": [
  {
   "cell_type": "code",
   "execution_count": 1,
   "source": [
    "from pymoo.algorithms.nsga2 import NSGA2\n",
    "from pymoo.factory import get_sampling, get_crossover, get_mutation, get_termination, get_problem\n",
    "from pymoo.optimize import minimize\n",
    "from pymoo.util.termination.default import MultiObjectiveDefaultTermination\n",
    "from pymoo.factory import get_performance_indicator\n",
    "import numpy as np\n",
    "import time\n",
    "import sys\n",
    "import os \n",
    "import argparse\n",
    "\n",
    "\n",
    "\n",
    "module_path = os.getcwd()+'/Problems/'\n",
    "sys.path.append(module_path)\n",
    "from Define_Problems import *"
   ],
   "outputs": [],
   "metadata": {}
  },
  {
   "cell_type": "code",
   "execution_count": 2,
   "source": [
    "search_domain = np.column_stack([np.array([1,2]),np.array([3,4])])\n",
    "search_domain"
   ],
   "outputs": [
    {
     "output_type": "execute_result",
     "data": {
      "text/plain": [
       "array([[1, 3],\n",
       "       [2, 4]])"
      ]
     },
     "metadata": {},
     "execution_count": 2
    }
   ],
   "metadata": {}
  },
  {
   "cell_type": "code",
   "execution_count": 3,
   "source": [
    "random_pick_X(sd= search_domain, size = 4) "
   ],
   "outputs": [
    {
     "output_type": "error",
     "ename": "NameError",
     "evalue": "name 'args' is not defined",
     "traceback": [
      "\u001b[0;31m---------------------------------------------------------------------------\u001b[0m",
      "\u001b[0;31mNameError\u001b[0m                                 Traceback (most recent call last)",
      "\u001b[0;32m/var/folders/tc/s1vsgctn4gn_n76ylgwmdwrw0000gn/T/ipykernel_34256/3549094519.py\u001b[0m in \u001b[0;36m<module>\u001b[0;34m\u001b[0m\n\u001b[0;32m----> 1\u001b[0;31m \u001b[0mrandom_pick_X\u001b[0m\u001b[0;34m(\u001b[0m\u001b[0msd\u001b[0m\u001b[0;34m=\u001b[0m \u001b[0msearch_domain\u001b[0m\u001b[0;34m,\u001b[0m \u001b[0msize\u001b[0m \u001b[0;34m=\u001b[0m \u001b[0margs\u001b[0m\u001b[0;34m.\u001b[0m\u001b[0msize\u001b[0m\u001b[0;34m)\u001b[0m\u001b[0;34m\u001b[0m\u001b[0;34m\u001b[0m\u001b[0m\n\u001b[0m",
      "\u001b[0;31mNameError\u001b[0m: name 'args' is not defined"
     ]
    }
   ],
   "metadata": {}
  },
  {
   "cell_type": "code",
   "execution_count": 1,
   "source": [
    "\"sdaDFA\".lower()"
   ],
   "outputs": [
    {
     "output_type": "execute_result",
     "data": {
      "text/plain": [
       "'sdadfa'"
      ]
     },
     "metadata": {},
     "execution_count": 1
    }
   ],
   "metadata": {}
  },
  {
   "cell_type": "code",
   "execution_count": 2,
   "source": [
    "module_path = os.getcwd()+'/Problems/'\n",
    "sys.path.append(module_path)\n",
    "from Define_Problems import *\n",
    "\n",
    "p_dict = {'bnh':BNH(lb=args.lb, up=args.ub), \n",
    "            'carside':Carside(lb=args.lb, up=args.ub), \n",
    "            'clutch':Clutch(lb=args.lb, up=args.ub), \n",
    "            'kursawe':Kursawe(lb=args.lb, up=args.ub), \n",
    "            'weldebeam':WeldedBeam(lb=args.lb, up=args.ub),\n",
    "            \"truss2d\":Truss2D(lb=args.lb, up=args.ub),\n",
    "            \"tnk\": Tnk(lb=args.lb, up=args.ub), \n",
    "            'osy':OSY(lb=args.lb, up=args.ub),\n",
    "            \"chankong\":Chankong(lb=args.lb, up=args.ub),\n",
    "            'test':Test(lb=args.lb, up=args.ub),\n",
    "            'ctp1':CTP1(lb=args.lb, up=args.ub), \n",
    "            'pro1':PRO1(lb=args.lb, up=args.ub),\n",
    "            'zdt1':ZDT1(lb=args.lb, up=args.ub,n_var=n_var),\n",
    "            'zdt2':ZDT2(lb=args.lb, up=args.ub,n_var=n_var),\n",
    "            'zdt3':ZDT3(lb=args.lb, up=args.ub,n_var=n_var),\n",
    "            'zdt4':ZDT4(lb=args.lb, up=args.ub,n_var=n_var),\n",
    "            'zdt5':ZDT5(lb=args.lb, up=args.ub,n_var=n_var),\n",
    "            'zdt6':ZDT6(lb=args.lb, up=args.ub,n_var=n_var) }\n",
    "for i in p_dict:\n",
    "    p=p_dict(i)\n",
    "    print(p)"
   ],
   "outputs": [
    {
     "output_type": "error",
     "ename": "NameError",
     "evalue": "name 'args' is not defined",
     "traceback": [
      "\u001b[0;31m---------------------------------------------------------------------------\u001b[0m",
      "\u001b[0;31mNameError\u001b[0m                                 Traceback (most recent call last)",
      "\u001b[0;32m/var/folders/tc/s1vsgctn4gn_n76ylgwmdwrw0000gn/T/ipykernel_53796/1564929840.py\u001b[0m in \u001b[0;36m<module>\u001b[0;34m\u001b[0m\n\u001b[1;32m      3\u001b[0m \u001b[0;32mfrom\u001b[0m \u001b[0mDefine_Problems\u001b[0m \u001b[0;32mimport\u001b[0m \u001b[0;34m*\u001b[0m\u001b[0;34m\u001b[0m\u001b[0;34m\u001b[0m\u001b[0m\n\u001b[1;32m      4\u001b[0m \u001b[0;34m\u001b[0m\u001b[0m\n\u001b[0;32m----> 5\u001b[0;31m p_dict = {'bnh':BNH(lb=args.lb, up=args.ub), \n\u001b[0m\u001b[1;32m      6\u001b[0m             \u001b[0;34m'carside'\u001b[0m\u001b[0;34m:\u001b[0m\u001b[0mCarside\u001b[0m\u001b[0;34m(\u001b[0m\u001b[0mlb\u001b[0m\u001b[0;34m=\u001b[0m\u001b[0margs\u001b[0m\u001b[0;34m.\u001b[0m\u001b[0mlb\u001b[0m\u001b[0;34m,\u001b[0m \u001b[0mup\u001b[0m\u001b[0;34m=\u001b[0m\u001b[0margs\u001b[0m\u001b[0;34m.\u001b[0m\u001b[0mub\u001b[0m\u001b[0;34m)\u001b[0m\u001b[0;34m,\u001b[0m\u001b[0;34m\u001b[0m\u001b[0;34m\u001b[0m\u001b[0m\n\u001b[1;32m      7\u001b[0m             \u001b[0;34m'clutch'\u001b[0m\u001b[0;34m:\u001b[0m\u001b[0mClutch\u001b[0m\u001b[0;34m(\u001b[0m\u001b[0mlb\u001b[0m\u001b[0;34m=\u001b[0m\u001b[0margs\u001b[0m\u001b[0;34m.\u001b[0m\u001b[0mlb\u001b[0m\u001b[0;34m,\u001b[0m \u001b[0mup\u001b[0m\u001b[0;34m=\u001b[0m\u001b[0margs\u001b[0m\u001b[0;34m.\u001b[0m\u001b[0mub\u001b[0m\u001b[0;34m)\u001b[0m\u001b[0;34m,\u001b[0m\u001b[0;34m\u001b[0m\u001b[0;34m\u001b[0m\u001b[0m\n",
      "\u001b[0;31mNameError\u001b[0m: name 'args' is not defined"
     ]
    }
   ],
   "metadata": {}
  },
  {
   "cell_type": "code",
   "execution_count": 5,
   "source": [
    "p = Clutch(lb= [1,1,1,1,1], up=[2,2,2,2,2])\n",
    "print(p)"
   ],
   "outputs": [
    {
     "output_type": "stream",
     "name": "stdout",
     "text": [
      "# name: Clutch\n",
      "# n_var: 5\n",
      "# n_obj: 2\n",
      "# n_constr: 19\n",
      "\n"
     ]
    }
   ],
   "metadata": {}
  },
  {
   "cell_type": "code",
   "execution_count": 55,
   "source": [
    "from pymoo.model.problem import Problem\n",
    "import autograd.numpy as anp\n",
    "\n",
    "\n",
    "\n",
    "class BNH(Problem):\n",
    "\n",
    "    def __init__(self,lb, up):\n",
    "        xl = np.array(lb)\n",
    "        xu = np.array(up)\n",
    "        super().__init__(n_var=2, n_obj=2,  xl =[8,-3], xu=[9,2], n_constr=2, type_var=np.double)\n",
    "        \n",
    "    def _evaluate(self, x, out, *args, **kwargs):\n",
    "        f1 = 4 * x[:, 0] ** 2 + 4 * x[:, 1] ** 2\n",
    "        f2 = (x[:, 0] - 5) ** 2 + (x[:, 1] - 5) ** 2\n",
    "        g1 = (1 / 25) * ((x[:, 0] - 5) ** 2 + x[:, 1] ** 2 - 25)\n",
    "        g2 = -1 / 7.7 * ((x[:, 0] - 8) ** 2 + (x[:, 1] + 3) ** 2 - 7.7)\n",
    "\n",
    "        out[\"F\"] = anp.column_stack([f1, f2])\n",
    "        out[\"G\"] = anp.column_stack([g1, g2])\n",
    "\n",
    "p = BNH(lb=[4,-3],up=[6,2])\n",
    "print(p)\n",
    "X = np.array([[1,2],\n",
    "            [1,2]])\n",
    "\n",
    "p.evaluate(X, return_values_of = ['F','G','CV'])"
   ],
   "outputs": [
    {
     "output_type": "stream",
     "name": "stdout",
     "text": [
      "# name: BNH\n",
      "# n_var: 2\n",
      "# n_obj: 2\n",
      "# n_constr: 2\n",
      "\n"
     ]
    },
    {
     "output_type": "execute_result",
     "data": {
      "text/plain": [
       "(array([[20, 25],\n",
       "        [20, 25]]),\n",
       " array([[-0.2       , -8.61038961],\n",
       "        [-0.2       , -8.61038961]]),\n",
       " array([[0.],\n",
       "        [0.]]))"
      ]
     },
     "metadata": {},
     "execution_count": 55
    }
   ],
   "metadata": {}
  },
  {
   "cell_type": "code",
   "execution_count": 32,
   "source": [],
   "outputs": [],
   "metadata": {}
  },
  {
   "cell_type": "code",
   "execution_count": 34,
   "source": [
    "python NSGA-II.py -p zdt4 -lb 2 5 6 1 -ub 7 7 8 9 -d 4 -eval 3000 -s 1000 -f zdt"
   ],
   "outputs": [
    {
     "output_type": "execute_result",
     "data": {
      "text/plain": [
       "128"
      ]
     },
     "metadata": {},
     "execution_count": 34
    }
   ],
   "metadata": {}
  },
  {
   "cell_type": "code",
   "execution_count": 56,
   "source": [
    "'TnK'.lower()"
   ],
   "outputs": [
    {
     "output_type": "execute_result",
     "data": {
      "text/plain": [
       "'tnk'"
      ]
     },
     "metadata": {},
     "execution_count": 56
    }
   ],
   "metadata": {}
  },
  {
   "cell_type": "code",
   "execution_count": 17,
   "source": [
    "import Problems\n"
   ],
   "outputs": [
    {
     "output_type": "error",
     "ename": "AttributeError",
     "evalue": "module 'Problems' has no attribute 'modules'",
     "traceback": [
      "\u001b[0;31m---------------------------------------------------------------------------\u001b[0m",
      "\u001b[0;31mAttributeError\u001b[0m                            Traceback (most recent call last)",
      "\u001b[0;32m/var/folders/tc/s1vsgctn4gn_n76ylgwmdwrw0000gn/T/ipykernel_70083/3831815736.py\u001b[0m in \u001b[0;36m<module>\u001b[0;34m\u001b[0m\n\u001b[1;32m      1\u001b[0m \u001b[0;32mimport\u001b[0m \u001b[0mProblems\u001b[0m\u001b[0;34m\u001b[0m\u001b[0;34m\u001b[0m\u001b[0m\n\u001b[0;32m----> 2\u001b[0;31m \u001b[0mProblems\u001b[0m\u001b[0;34m.\u001b[0m\u001b[0mmodules\u001b[0m\u001b[0;34m\u001b[0m\u001b[0;34m\u001b[0m\u001b[0m\n\u001b[0m",
      "\u001b[0;31mAttributeError\u001b[0m: module 'Problems' has no attribute 'modules'"
     ]
    }
   ],
   "metadata": {}
  },
  {
   "cell_type": "code",
   "execution_count": 37,
   "source": [
    "\n"
   ],
   "outputs": [
    {
     "output_type": "stream",
     "name": "stdout",
     "text": [
      "pro1.py\n",
      "ctp.py\n",
      "kursawe.py\n",
      "truss2d.py\n",
      "clutch.py\n",
      "zdt.py\n",
      "carside.py\n",
      "__init__.py\n",
      "test.py\n",
      "chankong.py\n",
      "bnh.py\n",
      "weldebeam.py\n",
      "tnk.py\n",
      "osy.py\n",
      "Define_Problems.py\n",
      "__init__.cpython-38.pyc\n",
      "Define_Problems.cpython-38.pyc\n",
      "zdt.cpython-38.pyc\n"
     ]
    }
   ],
   "metadata": {}
  },
  {
   "cell_type": "code",
   "execution_count": 50,
   "source": [
    "from pymoo.model.problem import Problem\n",
    "import sys \n",
    "sys.path.append('Problems/')\n",
    "\n",
    "import numpy as np\n",
    "import autograd.numpy as anp\n",
    "from carside import *\n",
    "from ctp import *\n",
    "from kursawe import *\n",
    "from bnh import *\n",
    "from chankong import *\n",
    "from clutch import *\n",
    "from osy import *\n",
    "from pro1 import *\n",
    "from test import *\n",
    "from tnk import *\n",
    "from truss2d import *\n",
    "from weldebeam import *\n",
    "from zdt import *\n"
   ],
   "outputs": [],
   "metadata": {}
  },
  {
   "cell_type": "code",
   "execution_count": 48,
   "source": [
    "Test()"
   ],
   "outputs": [
    {
     "output_type": "execute_result",
     "data": {
      "text/plain": [
       "<zdt.ZDT1 at 0x7f9168622c70>"
      ]
     },
     "metadata": {},
     "execution_count": 48
    }
   ],
   "metadata": {}
  },
  {
   "cell_type": "code",
   "execution_count": 42,
   "source": [
    "from pymoo.model.problem import Problem\n",
    "import numpy as np\n",
    "import autograd.numpy as anp\n",
    "from carside import *\n",
    "from ctp import *\n",
    "from kursawe import *\n",
    "from bnh import *\n",
    "from chankong import *\n",
    "from clutch import *\n",
    "from osy import *\n",
    "from pro1 import *\n",
    "from test import *\n",
    "from tnk import *\n",
    "from truss2d import *\n",
    "from weldebeam import *\n",
    "from zdt import *\n",
    "\n",
    "\n",
    "def lsp(objective_function):\n",
    "    num_weight = len(objective_function)\n",
    "    w = np.random.rand(num_weight)\n",
    "    w=w/w.sum()\n",
    "    fp = np.array(objective_function)\n",
    "    lsp = np.dot(w, fp)\n",
    "    print('weight is: ',w)\n",
    "    return lsp\n",
    "\n",
    "\n",
    "def random_pick_X(sd, size = 100):\n",
    "    # you have data size and a set of bound\n",
    "    # based on this generating random data points(\n",
    "    #sd is np.columnstack([lb,ub])\n",
    "    lst = []\n",
    "    for each_variable_domain in sd:\n",
    "        aryl = np.random.uniform(low=each_variable_domain[0], high=each_variable_domain[1], size =size).reshape(-1,1)\n",
    "        lst.append(aryl) \n",
    "    return np.column_stack(lst) #stack all variables search domain\n",
    "\n",
    "def split_X(X,problem_F,problem_CV):\n",
    "    \n",
    "    #filter infeasible and feasible index\n",
    "    infeasible_index = np.where(problem_CV > 0)[0]\n",
    "    feasible_index = [i for i in range(X.shape[0]) if i not in infeasible_index ]\n",
    "    #get feasible and infeasible input\n",
    "    feasible_X = X[feasible_index]         \n",
    "\n",
    "    infeasible_X = X[infeasible_index]\n",
    "    feasible_F = problem_F[feasible_index]\n",
    "    infeasible_F = problem_F[infeasible_index]\n",
    "\n",
    "    print('------problem evaluation-----')\n",
    "    print('{} is feasible and {} is infeasible among {} data points'.format(len(feasible_index), len(infeasible_index), len(X)))\n",
    "\n",
    "    return feasible_X,infeasible_X, feasible_F,infeasible_F\n",
    "\n",
    "\n",
    "\n",
    "\n",
    "\n",
    "\n",
    "\n",
    "\n",
    "\n"
   ],
   "outputs": [],
   "metadata": {}
  },
  {
   "cell_type": "code",
   "execution_count": 51,
   "source": [
    "from pymoo.model.problem import Problem\n",
    "import numpy as np\n",
    "import autograd.numpy as anp\n",
    "\n",
    "\n",
    "class Test(Problem):\n",
    "\n",
    "#clarify the problem\n",
    "    def __init__(self):\n",
    "\n",
    "        super().__init__(n_var=2,\n",
    "                        n_obj=2,\n",
    "                        n_constr=3)\n",
    "        self.xl = anp.array([-7,-7])\n",
    "        self.xu = anp.array([4,4])\n",
    "\n",
    "    def _evaluate(self, X, out,*args, **kwargs):\n",
    "        f1 = X[:,0]**2 - X[:,1]\n",
    "        f2 = -0.5*X[:,0] - X[:,1] -1\n",
    "        g1 =  -(6.5 - X[:,0]/6 - X[:,1])\n",
    "        g2 =  -(7.5 - 0.5*X[:,0] - X[:,1])\n",
    "        g3 = -(30 - 5*X[:,0] - X[:,1])\n",
    "\n",
    "        out[\"F\"] = np.column_stack([f1, f2]) \n",
    "        out[\"G\"] = np.column_stack([g1, g2, g3])"
   ],
   "outputs": [],
   "metadata": {}
  },
  {
   "cell_type": "code",
   "execution_count": 52,
   "source": [],
   "outputs": [
    {
     "output_type": "execute_result",
     "data": {
      "text/plain": [
       "<__main__.Test at 0x7f9168611760>"
      ]
     },
     "metadata": {},
     "execution_count": 52
    }
   ],
   "metadata": {}
  },
  {
   "cell_type": "code",
   "execution_count": null,
   "source": [],
   "outputs": [],
   "metadata": {}
  }
 ],
 "metadata": {
  "orig_nbformat": 4,
  "language_info": {
   "name": "python",
   "version": "3.8.6",
   "mimetype": "text/x-python",
   "codemirror_mode": {
    "name": "ipython",
    "version": 3
   },
   "pygments_lexer": "ipython3",
   "nbconvert_exporter": "python",
   "file_extension": ".py"
  },
  "kernelspec": {
   "name": "python3",
   "display_name": "Python 3.8.6 64-bit ('gleb': conda)"
  },
  "interpreter": {
   "hash": "2ccebbba47576261cc55cdb09f91049a3fd200111050fee253d99fc53ae7a6e0"
  }
 },
 "nbformat": 4,
 "nbformat_minor": 2
}