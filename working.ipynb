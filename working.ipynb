{
 "cells": [
  {
   "cell_type": "code",
   "execution_count": 1,
   "source": [
    "from pymoo.algorithms.nsga2 import NSGA2\n",
    "from pymoo.factory import get_sampling, get_crossover, get_mutation, get_termination, get_problem\n",
    "from pymoo.optimize import minimize\n",
    "from pymoo.util.termination.default import MultiObjectiveDefaultTermination\n",
    "from pymoo.factory import get_performance_indicator\n",
    "import numpy as np\n",
    "import time\n",
    "import sys\n",
    "import os \n",
    "import argparse\n",
    "\n",
    "\n",
    "\n",
    "module_path = os.getcwd()+'/Problems/'\n",
    "sys.path.append(module_path)\n",
    "from Define_Problems import *"
   ],
   "outputs": [],
   "metadata": {}
  },
  {
   "cell_type": "code",
   "execution_count": 2,
   "source": [
    "search_domain = np.column_stack([np.array([1,2]),np.array([3,4])])\n",
    "search_domain"
   ],
   "outputs": [
    {
     "output_type": "execute_result",
     "data": {
      "text/plain": [
       "array([[1, 3],\n",
       "       [2, 4]])"
      ]
     },
     "metadata": {},
     "execution_count": 2
    }
   ],
   "metadata": {}
  },
  {
   "cell_type": "code",
   "execution_count": 3,
   "source": [
    "random_pick_X(sd= search_domain, size = 4) "
   ],
   "outputs": [
    {
     "output_type": "error",
     "ename": "NameError",
     "evalue": "name 'args' is not defined",
     "traceback": [
      "\u001b[0;31m---------------------------------------------------------------------------\u001b[0m",
      "\u001b[0;31mNameError\u001b[0m                                 Traceback (most recent call last)",
      "\u001b[0;32m/var/folders/tc/s1vsgctn4gn_n76ylgwmdwrw0000gn/T/ipykernel_34256/3549094519.py\u001b[0m in \u001b[0;36m<module>\u001b[0;34m\u001b[0m\n\u001b[0;32m----> 1\u001b[0;31m \u001b[0mrandom_pick_X\u001b[0m\u001b[0;34m(\u001b[0m\u001b[0msd\u001b[0m\u001b[0;34m=\u001b[0m \u001b[0msearch_domain\u001b[0m\u001b[0;34m,\u001b[0m \u001b[0msize\u001b[0m \u001b[0;34m=\u001b[0m \u001b[0margs\u001b[0m\u001b[0;34m.\u001b[0m\u001b[0msize\u001b[0m\u001b[0;34m)\u001b[0m\u001b[0;34m\u001b[0m\u001b[0;34m\u001b[0m\u001b[0m\n\u001b[0m",
      "\u001b[0;31mNameError\u001b[0m: name 'args' is not defined"
     ]
    }
   ],
   "metadata": {}
  },
  {
   "cell_type": "code",
   "execution_count": 1,
   "source": [
    "\"sdaDFA\".lower()"
   ],
   "outputs": [
    {
     "output_type": "execute_result",
     "data": {
      "text/plain": [
       "'sdadfa'"
      ]
     },
     "metadata": {},
     "execution_count": 1
    }
   ],
   "metadata": {}
  },
  {
   "cell_type": "code",
   "execution_count": 2,
   "source": [
    "module_path = os.getcwd()+'/Problems/'\n",
    "sys.path.append(module_path)\n",
    "from Define_Problems import *\n",
    "\n",
    "p_dict = {'bnh':BNH(lb=args.lb, up=args.ub), \n",
    "            'carside':Carside(lb=args.lb, up=args.ub), \n",
    "            'clutch':Clutch(lb=args.lb, up=args.ub), \n",
    "            'kursawe':Kursawe(lb=args.lb, up=args.ub), \n",
    "            'weldebeam':WeldedBeam(lb=args.lb, up=args.ub),\n",
    "            \"truss2d\":Truss2D(lb=args.lb, up=args.ub),\n",
    "            \"tnk\": Tnk(lb=args.lb, up=args.ub), \n",
    "            'osy':OSY(lb=args.lb, up=args.ub),\n",
    "            \"chankong\":Chankong(lb=args.lb, up=args.ub),\n",
    "            'test':Test(lb=args.lb, up=args.ub),\n",
    "            'ctp1':CTP1(lb=args.lb, up=args.ub), \n",
    "            'pro1':PRO1(lb=args.lb, up=args.ub),\n",
    "            'zdt1':ZDT1(lb=args.lb, up=args.ub,n_var=n_var),\n",
    "            'zdt2':ZDT2(lb=args.lb, up=args.ub,n_var=n_var),\n",
    "            'zdt3':ZDT3(lb=args.lb, up=args.ub,n_var=n_var),\n",
    "            'zdt4':ZDT4(lb=args.lb, up=args.ub,n_var=n_var),\n",
    "            'zdt5':ZDT5(lb=args.lb, up=args.ub,n_var=n_var),\n",
    "            'zdt6':ZDT6(lb=args.lb, up=args.ub,n_var=n_var) }\n",
    "for i in p_dict:\n",
    "    p=p_dict(i)\n",
    "    print(p)"
   ],
   "outputs": [
    {
     "output_type": "error",
     "ename": "NameError",
     "evalue": "name 'args' is not defined",
     "traceback": [
      "\u001b[0;31m---------------------------------------------------------------------------\u001b[0m",
      "\u001b[0;31mNameError\u001b[0m                                 Traceback (most recent call last)",
      "\u001b[0;32m/var/folders/tc/s1vsgctn4gn_n76ylgwmdwrw0000gn/T/ipykernel_53796/1564929840.py\u001b[0m in \u001b[0;36m<module>\u001b[0;34m\u001b[0m\n\u001b[1;32m      3\u001b[0m \u001b[0;32mfrom\u001b[0m \u001b[0mDefine_Problems\u001b[0m \u001b[0;32mimport\u001b[0m \u001b[0;34m*\u001b[0m\u001b[0;34m\u001b[0m\u001b[0;34m\u001b[0m\u001b[0m\n\u001b[1;32m      4\u001b[0m \u001b[0;34m\u001b[0m\u001b[0m\n\u001b[0;32m----> 5\u001b[0;31m p_dict = {'bnh':BNH(lb=args.lb, up=args.ub), \n\u001b[0m\u001b[1;32m      6\u001b[0m             \u001b[0;34m'carside'\u001b[0m\u001b[0;34m:\u001b[0m\u001b[0mCarside\u001b[0m\u001b[0;34m(\u001b[0m\u001b[0mlb\u001b[0m\u001b[0;34m=\u001b[0m\u001b[0margs\u001b[0m\u001b[0;34m.\u001b[0m\u001b[0mlb\u001b[0m\u001b[0;34m,\u001b[0m \u001b[0mup\u001b[0m\u001b[0;34m=\u001b[0m\u001b[0margs\u001b[0m\u001b[0;34m.\u001b[0m\u001b[0mub\u001b[0m\u001b[0;34m)\u001b[0m\u001b[0;34m,\u001b[0m\u001b[0;34m\u001b[0m\u001b[0;34m\u001b[0m\u001b[0m\n\u001b[1;32m      7\u001b[0m             \u001b[0;34m'clutch'\u001b[0m\u001b[0;34m:\u001b[0m\u001b[0mClutch\u001b[0m\u001b[0;34m(\u001b[0m\u001b[0mlb\u001b[0m\u001b[0;34m=\u001b[0m\u001b[0margs\u001b[0m\u001b[0;34m.\u001b[0m\u001b[0mlb\u001b[0m\u001b[0;34m,\u001b[0m \u001b[0mup\u001b[0m\u001b[0;34m=\u001b[0m\u001b[0margs\u001b[0m\u001b[0;34m.\u001b[0m\u001b[0mub\u001b[0m\u001b[0;34m)\u001b[0m\u001b[0;34m,\u001b[0m\u001b[0;34m\u001b[0m\u001b[0;34m\u001b[0m\u001b[0m\n",
      "\u001b[0;31mNameError\u001b[0m: name 'args' is not defined"
     ]
    }
   ],
   "metadata": {}
  },
  {
   "cell_type": "code",
   "execution_count": 5,
   "source": [
    "p = Clutch(lb= [1,1,1,1,1], up=[2,2,2,2,2])\n",
    "print(p)"
   ],
   "outputs": [
    {
     "output_type": "stream",
     "name": "stdout",
     "text": [
      "# name: Clutch\n",
      "# n_var: 5\n",
      "# n_obj: 2\n",
      "# n_constr: 19\n",
      "\n"
     ]
    }
   ],
   "metadata": {}
  },
  {
   "cell_type": "code",
   "execution_count": 55,
   "source": [
    "from pymoo.model.problem import Problem\n",
    "import autograd.numpy as anp\n",
    "\n",
    "\n",
    "\n",
    "class BNH(Problem):\n",
    "\n",
    "    def __init__(self,lb, up):\n",
    "        xl = np.array(lb)\n",
    "        xu = np.array(up)\n",
    "        super().__init__(n_var=2, n_obj=2,  xl =[8,-3], xu=[9,2], n_constr=2, type_var=np.double)\n",
    "        \n",
    "    def _evaluate(self, x, out, *args, **kwargs):\n",
    "        f1 = 4 * x[:, 0] ** 2 + 4 * x[:, 1] ** 2\n",
    "        f2 = (x[:, 0] - 5) ** 2 + (x[:, 1] - 5) ** 2\n",
    "        g1 = (1 / 25) * ((x[:, 0] - 5) ** 2 + x[:, 1] ** 2 - 25)\n",
    "        g2 = -1 / 7.7 * ((x[:, 0] - 8) ** 2 + (x[:, 1] + 3) ** 2 - 7.7)\n",
    "\n",
    "        out[\"F\"] = anp.column_stack([f1, f2])\n",
    "        out[\"G\"] = anp.column_stack([g1, g2])\n",
    "\n",
    "p = BNH(lb=[4,-3],up=[6,2])\n",
    "print(p)\n",
    "X = np.array([[1,2],\n",
    "            [1,2]])\n",
    "\n",
    "p.evaluate(X, return_values_of = ['F','G','CV'])"
   ],
   "outputs": [
    {
     "output_type": "stream",
     "name": "stdout",
     "text": [
      "# name: BNH\n",
      "# n_var: 2\n",
      "# n_obj: 2\n",
      "# n_constr: 2\n",
      "\n"
     ]
    },
    {
     "output_type": "execute_result",
     "data": {
      "text/plain": [
       "(array([[20, 25],\n",
       "        [20, 25]]),\n",
       " array([[-0.2       , -8.61038961],\n",
       "        [-0.2       , -8.61038961]]),\n",
       " array([[0.],\n",
       "        [0.]]))"
      ]
     },
     "metadata": {},
     "execution_count": 55
    }
   ],
   "metadata": {}
  },
  {
   "cell_type": "code",
   "execution_count": 32,
   "source": [],
   "outputs": [],
   "metadata": {}
  },
  {
   "cell_type": "code",
   "execution_count": 34,
   "source": [
    "python NSGA-II.py -p zdt4 -lb 2 5 6 1 -ub 7 7 8 9 -d 4 -eval 3000 -s 1000 -f zdt"
   ],
   "outputs": [
    {
     "output_type": "execute_result",
     "data": {
      "text/plain": [
       "128"
      ]
     },
     "metadata": {},
     "execution_count": 34
    }
   ],
   "metadata": {}
  },
  {
   "cell_type": "code",
   "execution_count": 56,
   "source": [
    "'TnK'.lower()"
   ],
   "outputs": [
    {
     "output_type": "execute_result",
     "data": {
      "text/plain": [
       "'tnk'"
      ]
     },
     "metadata": {},
     "execution_count": 56
    }
   ],
   "metadata": {}
  },
  {
   "cell_type": "code",
   "execution_count": null,
   "source": [],
   "outputs": [],
   "metadata": {}
  }
 ],
 "metadata": {
  "orig_nbformat": 4,
  "language_info": {
   "name": "python",
   "version": "3.8.6",
   "mimetype": "text/x-python",
   "codemirror_mode": {
    "name": "ipython",
    "version": 3
   },
   "pygments_lexer": "ipython3",
   "nbconvert_exporter": "python",
   "file_extension": ".py"
  },
  "kernelspec": {
   "name": "python3",
   "display_name": "Python 3.8.6 64-bit ('gleb': conda)"
  },
  "interpreter": {
   "hash": "2ccebbba47576261cc55cdb09f91049a3fd200111050fee253d99fc53ae7a6e0"
  }
 },
 "nbformat": 4,
 "nbformat_minor": 2
}