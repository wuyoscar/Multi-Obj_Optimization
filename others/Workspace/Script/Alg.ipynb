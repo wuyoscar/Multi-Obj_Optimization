{
 "metadata": {
  "language_info": {
   "codemirror_mode": {
    "name": "ipython",
    "version": 3
   },
   "file_extension": ".py",
   "mimetype": "text/x-python",
   "name": "python",
   "nbconvert_exporter": "python",
   "pygments_lexer": "ipython3",
   "version": "3.8.5"
  },
  "orig_nbformat": 2,
  "kernelspec": {
   "name": "python385jvsc74a57bd0b1858a2a5e6d37bd6640d37503bc61c231a3e6fa2195a00b6c59e7ee672ce886",
   "display_name": "Python 3.8.5 64-bit ('gleb_project': conda)"
  },
  "metadata": {
   "interpreter": {
    "hash": "b1858a2a5e6d37bd6640d37503bc61c231a3e6fa2195a00b6c59e7ee672ce886"
   }
  }
 },
 "nbformat": 4,
 "nbformat_minor": 2,
 "cells": [
  {
   "source": [
    "# Optimzation \n",
    "---\n",
    "Update **Thu 27 May**\n",
    "\n",
    "\n",
    "---\n",
    "- This jupyter file is only for demonstration of work process\n",
    "\n",
    "- Python script will split into files in following days"
   ],
   "cell_type": "markdown",
   "metadata": {}
  },
  {
   "source": [
    "'<img src=\"nor.jpg\" width=\"380\"/>'"
   ],
   "cell_type": "markdown",
   "metadata": {}
  },
  {
   "source": [
    "## Problems\n",
    "\n",
    "-----\n",
    "\n",
    "### Problems can be define by ourselves or import from packages (only most of them)\n",
    "1. Users define\n",
    "\n",
    "**Binh and Korn function**\n",
    "\n",
    "Link: https://en.wikipedia.org/wiki/Test_functions_for_optimization#Test_functions_for_multi-objective_optimization\n",
    "\n",
    "2. Imported from packages"
   ],
   "cell_type": "markdown",
   "metadata": {}
  },
  {
   "source": [
    "- 1. User define\n",
    "\n",
    "<img src=\"binh.png\" width=\"1300\"/>\n",
    "\n",
    "**Not sure the constraints normalization is correct?**"
   ],
   "cell_type": "markdown",
   "metadata": {}
  },
  {
   "cell_type": "code",
   "execution_count": 41,
   "metadata": {},
   "outputs": [
    {
     "output_type": "execute_result",
     "data": {
      "text/plain": [
       "4"
      ]
     },
     "metadata": {},
     "execution_count": 41
    }
   ],
   "source": [
    " 4*(0)**2 +4*(1)**2"
   ]
  },
  {
   "cell_type": "code",
   "execution_count": 42,
   "metadata": {},
   "outputs": [
    {
     "output_type": "execute_result",
     "data": {
      "text/plain": [
       "array([[82, 52],\n",
       "       [58, 46],\n",
       "       [97, 58],\n",
       "       [76, 22],\n",
       "       [29, 11]])"
      ]
     },
     "metadata": {},
     "execution_count": 42
    }
   ],
   "source": [
    " a = np.random.randint(0,100,100).reshape(-1,2)\n",
    " a[:5]"
   ]
  },
  {
   "cell_type": "code",
   "execution_count": 40,
   "metadata": {},
   "outputs": [
    {
     "output_type": "execute_result",
     "data": {
      "text/plain": [
       "array([98, 22, 53, 32,  6])"
      ]
     },
     "metadata": {},
     "execution_count": 40
    }
   ],
   "source": [
    "a[:5,3]\n",
    "\n"
   ]
  },
  {
   "cell_type": "code",
   "execution_count": null,
   "metadata": {},
   "outputs": [],
   "source": []
  },
  {
   "cell_type": "code",
   "execution_count": 14,
   "metadata": {},
   "outputs": [],
   "source": [
    "import numpy as np\n",
    "from pymoo.model.problem import Problem\n",
    "\n",
    "class MyProblem(Problem):\n",
    "\n",
    "    def __init__(self):\n",
    "        super().__init__(n_var=2,\n",
    "                         n_obj=2,\n",
    "                         n_constr=2,\n",
    "                         xl=np.array([0,0]), \n",
    "                         xu=np.array([5,3])) #see as figure above\n",
    "\n",
    "    #var_1 = X[:,0] ; var_2 = X[:,1]\n",
    "    def _evaluate(self, X, out, *args, **kwargs):\n",
    "        f1 = (4*X[:,0])**2 +(4*X[:,1])**2\n",
    "        f2 = (X[:,0]-5)**2 + (X[:,1]-5)**2\n",
    "\n",
    "    #constraints need to be formulated as g(xi)<=0\n",
    "        g1 =  (X[:,0]-5)**2 + (X[:,1])**2 - 25 \n",
    "        g2 =  -((X[:,0]-8)**2 + (X[:,1] + 3)**2 - 7.7) /65.3\n",
    "\n",
    "        out[\"F\"] = np.column_stack([f1, f2]) #reshape [f1,f2] \n",
    "        out[\"G\"] = np.column_stack([g1, g2]) #reshape [g1,g2]\n",
    "\n",
    "\n",
    "bk_problem = MyProblem()"
   ]
  },
  {
   "source": [
    "Moreover, we enable a duplicate check (eliminate_duplicates=True), making sure that the mating produces offsprings that are different from themselves and the existing population regarding their design space values."
   ],
   "cell_type": "markdown",
   "metadata": {}
  },
  {
   "source": [
    "- 2. Import from packages\n",
    "\n",
    "\n",
    "link: https://pymoo.org/problems/index.html"
   ],
   "cell_type": "markdown",
   "metadata": {}
  },
  {
   "cell_type": "code",
   "execution_count": 12,
   "metadata": {},
   "outputs": [],
   "source": [
    "from pymoo.factory import get_problem\n",
    "zdt4 = get_problem(\"zdt4\")\n",
    "\n",
    "zdt1 = get_problem(\"zdt1\")"
   ]
  },
  {
   "source": [
    "## Algorithms"
   ],
   "cell_type": "markdown",
   "metadata": {}
  },
  {
   "cell_type": "code",
   "execution_count": 19,
   "metadata": {},
   "outputs": [],
   "source": [
    "from pymoo.algorithms.nsga2 import NSGA2\n",
    "from pymoo.factory import get_sampling, get_crossover, get_mutation\n",
    "from pymoo.optimize import minimize\n",
    "from pymoo.visualization.scatter import Scatter\n",
    "\n",
    "algorithm = NSGA2(pop_size=100)\n",
    "\n",
    "\n",
    "res = minimize(bk_problem,\n",
    "               algorithm,\n",
    "               ('n_gen', 200),\n",
    "               seed=1,\n",
    "               verbose=False)"
   ]
  },
  {
   "cell_type": "code",
   "execution_count": 25,
   "metadata": {},
   "outputs": [
    {
     "output_type": "execute_result",
     "data": {
      "text/plain": [
       "<pymoo.visualization.scatter.Scatter at 0x7fb8c0782eb0>"
      ]
     },
     "metadata": {},
     "execution_count": 25
    },
    {
     "output_type": "display_data",
     "data": {
      "text/plain": "<Figure size 576x432 with 1 Axes>",
      "image/svg+xml": "<?xml version=\"1.0\" encoding=\"utf-8\" standalone=\"no\"?>\n<!DOCTYPE svg PUBLIC \"-//W3C//DTD SVG 1.1//EN\"\n  \"http://www.w3.org/Graphics/SVG/1.1/DTD/svg11.dtd\">\n<!-- Created with matplotlib (https://matplotlib.org/) -->\n<svg height=\"370.91625pt\" version=\"1.1\" viewBox=\"0 0 494.203125 370.91625\" width=\"494.203125pt\" xmlns=\"http://www.w3.org/2000/svg\" xmlns:xlink=\"http://www.w3.org/1999/xlink\">\n <defs>\n  <style type=\"text/css\">\n*{stroke-linecap:butt;stroke-linejoin:round;}\n  </style>\n </defs>\n <g id=\"figure_1\">\n  <g id=\"patch_1\">\n   <path d=\"M 0 370.91625 \nL 494.203125 370.91625 \nL 494.203125 0 \nL 0 0 \nz\n\" style=\"fill:none;\"/>\n  </g>\n  <g id=\"axes_1\">\n   <g id=\"patch_2\">\n    <path d=\"M 40.603125 333.36 \nL 487.003125 333.36 \nL 487.003125 7.2 \nL 40.603125 7.2 \nz\n\" style=\"fill:#ffffff;\"/>\n   </g>\n   <g id=\"PathCollection_1\">\n    <defs>\n     <path d=\"M 0 3 \nC 0.795609 3 1.55874 2.683901 2.12132 2.12132 \nC 2.683901 1.55874 3 0.795609 3 0 \nC 3 -0.795609 2.683901 -1.55874 2.12132 -2.12132 \nC 1.55874 -2.683901 0.795609 -3 0 -3 \nC -0.795609 -3 -1.55874 -2.683901 -2.12132 -2.12132 \nC -2.683901 -1.55874 -3 -0.795609 -3 0 \nC -3 0.795609 -2.683901 1.55874 -2.12132 2.12132 \nC -1.55874 2.683901 -0.795609 3 0 3 \nz\n\" id=\"m530d8efb34\" style=\"stroke:#ff0000;\"/>\n    </defs>\n    <g clip-path=\"url(#p39b31a8c09)\">\n     <use style=\"fill:#ff0000;stroke:#ff0000;\" x=\"60.894034\" xlink:href=\"#m530d8efb34\" y=\"22.025455\"/>\n     <use style=\"fill:#ff0000;stroke:#ff0000;\" x=\"466.712216\" xlink:href=\"#m530d8efb34\" y=\"318.534545\"/>\n     <use style=\"fill:#ff0000;stroke:#ff0000;\" x=\"104.008717\" xlink:href=\"#m530d8efb34\" y=\"171.900325\"/>\n     <use style=\"fill:#ff0000;stroke:#ff0000;\" x=\"97.387628\" xlink:href=\"#m530d8efb34\" y=\"160.474486\"/>\n     <use style=\"fill:#ff0000;stroke:#ff0000;\" x=\"370.161376\" xlink:href=\"#m530d8efb34\" y=\"313.377049\"/>\n     <use style=\"fill:#ff0000;stroke:#ff0000;\" x=\"431.725078\" xlink:href=\"#m530d8efb34\" y=\"317.940835\"/>\n     <use style=\"fill:#ff0000;stroke:#ff0000;\" x=\"384.075601\" xlink:href=\"#m530d8efb34\" y=\"314.922155\"/>\n     <use style=\"fill:#ff0000;stroke:#ff0000;\" x=\"72.416369\" xlink:href=\"#m530d8efb34\" y=\"104.646069\"/>\n     <use style=\"fill:#ff0000;stroke:#ff0000;\" x=\"187.029402\" xlink:href=\"#m530d8efb34\" y=\"250.028101\"/>\n     <use style=\"fill:#ff0000;stroke:#ff0000;\" x=\"78.97062\" xlink:href=\"#m530d8efb34\" y=\"124.407609\"/>\n     <use style=\"fill:#ff0000;stroke:#ff0000;\" x=\"117.232391\" xlink:href=\"#m530d8efb34\" y=\"187.914316\"/>\n     <use style=\"fill:#ff0000;stroke:#ff0000;\" x=\"198.962366\" xlink:href=\"#m530d8efb34\" y=\"255.505\"/>\n     <use style=\"fill:#ff0000;stroke:#ff0000;\" x=\"181.285676\" xlink:href=\"#m530d8efb34\" y=\"246.496621\"/>\n     <use style=\"fill:#ff0000;stroke:#ff0000;\" x=\"81.323048\" xlink:href=\"#m530d8efb34\" y=\"129.864383\"/>\n     <use style=\"fill:#ff0000;stroke:#ff0000;\" x=\"83.393547\" xlink:href=\"#m530d8efb34\" y=\"134.953805\"/>\n     <use style=\"fill:#ff0000;stroke:#ff0000;\" x=\"177.330442\" xlink:href=\"#m530d8efb34\" y=\"243.22347\"/>\n     <use style=\"fill:#ff0000;stroke:#ff0000;\" x=\"211.522681\" xlink:href=\"#m530d8efb34\" y=\"264.411546\"/>\n     <use style=\"fill:#ff0000;stroke:#ff0000;\" x=\"423.156262\" xlink:href=\"#m530d8efb34\" y=\"317.60251\"/>\n     <use style=\"fill:#ff0000;stroke:#ff0000;\" x=\"106.872215\" xlink:href=\"#m530d8efb34\" y=\"176.109486\"/>\n     <use style=\"fill:#ff0000;stroke:#ff0000;\" x=\"63.059577\" xlink:href=\"#m530d8efb34\" y=\"57.777122\"/>\n     <use style=\"fill:#ff0000;stroke:#ff0000;\" x=\"61.902029\" xlink:href=\"#m530d8efb34\" y=\"47.655034\"/>\n     <use style=\"fill:#ff0000;stroke:#ff0000;\" x=\"109.930255\" xlink:href=\"#m530d8efb34\" y=\"180.15917\"/>\n     <use style=\"fill:#ff0000;stroke:#ff0000;\" x=\"63.7705\" xlink:href=\"#m530d8efb34\" y=\"64.620357\"/>\n     <use style=\"fill:#ff0000;stroke:#ff0000;\" x=\"95.961119\" xlink:href=\"#m530d8efb34\" y=\"157.380623\"/>\n     <use style=\"fill:#ff0000;stroke:#ff0000;\" x=\"61.39061\" xlink:href=\"#m530d8efb34\" y=\"39.935041\"/>\n     <use style=\"fill:#ff0000;stroke:#ff0000;\" x=\"233.897504\" xlink:href=\"#m530d8efb34\" y=\"275.648603\"/>\n     <use style=\"fill:#ff0000;stroke:#ff0000;\" x=\"140.519081\" xlink:href=\"#m530d8efb34\" y=\"213.878498\"/>\n     <use style=\"fill:#ff0000;stroke:#ff0000;\" x=\"404.491831\" xlink:href=\"#m530d8efb34\" y=\"316.570363\"/>\n     <use style=\"fill:#ff0000;stroke:#ff0000;\" x=\"205.330036\" xlink:href=\"#m530d8efb34\" y=\"258.927563\"/>\n     <use style=\"fill:#ff0000;stroke:#ff0000;\" x=\"121.427591\" xlink:href=\"#m530d8efb34\" y=\"194.561564\"/>\n     <use style=\"fill:#ff0000;stroke:#ff0000;\" x=\"62.401067\" xlink:href=\"#m530d8efb34\" y=\"53.194285\"/>\n     <use style=\"fill:#ff0000;stroke:#ff0000;\" x=\"88.179172\" xlink:href=\"#m530d8efb34\" y=\"145.115689\"/>\n     <use style=\"fill:#ff0000;stroke:#ff0000;\" x=\"60.990638\" xlink:href=\"#m530d8efb34\" y=\"30.169589\"/>\n     <use style=\"fill:#ff0000;stroke:#ff0000;\" x=\"152.477247\" xlink:href=\"#m530d8efb34\" y=\"224.999317\"/>\n     <use style=\"fill:#ff0000;stroke:#ff0000;\" x=\"125.71151\" xlink:href=\"#m530d8efb34\" y=\"199.448579\"/>\n     <use style=\"fill:#ff0000;stroke:#ff0000;\" x=\"454.970204\" xlink:href=\"#m530d8efb34\" y=\"318.470905\"/>\n     <use style=\"fill:#ff0000;stroke:#ff0000;\" x=\"209.762221\" xlink:href=\"#m530d8efb34\" y=\"259.057151\"/>\n     <use style=\"fill:#ff0000;stroke:#ff0000;\" x=\"70.592652\" xlink:href=\"#m530d8efb34\" y=\"98.952736\"/>\n     <use style=\"fill:#ff0000;stroke:#ff0000;\" x=\"64.322986\" xlink:href=\"#m530d8efb34\" y=\"68.959722\"/>\n     <use style=\"fill:#ff0000;stroke:#ff0000;\" x=\"267.393087\" xlink:href=\"#m530d8efb34\" y=\"289.594543\"/>\n     <use style=\"fill:#ff0000;stroke:#ff0000;\" x=\"311.335702\" xlink:href=\"#m530d8efb34\" y=\"303.276599\"/>\n     <use style=\"fill:#ff0000;stroke:#ff0000;\" x=\"444.70581\" xlink:href=\"#m530d8efb34\" y=\"318.301958\"/>\n     <use style=\"fill:#ff0000;stroke:#ff0000;\" x=\"165.647803\" xlink:href=\"#m530d8efb34\" y=\"235.084441\"/>\n     <use style=\"fill:#ff0000;stroke:#ff0000;\" x=\"362.516171\" xlink:href=\"#m530d8efb34\" y=\"312.503465\"/>\n     <use style=\"fill:#ff0000;stroke:#ff0000;\" x=\"172.253409\" xlink:href=\"#m530d8efb34\" y=\"239.909797\"/>\n     <use style=\"fill:#ff0000;stroke:#ff0000;\" x=\"76.852554\" xlink:href=\"#m530d8efb34\" y=\"118.742404\"/>\n     <use style=\"fill:#ff0000;stroke:#ff0000;\" x=\"92.284884\" xlink:href=\"#m530d8efb34\" y=\"152.232607\"/>\n     <use style=\"fill:#ff0000;stroke:#ff0000;\" x=\"262.840735\" xlink:href=\"#m530d8efb34\" y=\"287.926636\"/>\n     <use style=\"fill:#ff0000;stroke:#ff0000;\" x=\"149.489141\" xlink:href=\"#m530d8efb34\" y=\"221.862275\"/>\n     <use style=\"fill:#ff0000;stroke:#ff0000;\" x=\"228.261067\" xlink:href=\"#m530d8efb34\" y=\"272.849722\"/>\n     <use style=\"fill:#ff0000;stroke:#ff0000;\" x=\"65.099553\" xlink:href=\"#m530d8efb34\" y=\"73.638256\"/>\n     <use style=\"fill:#ff0000;stroke:#ff0000;\" x=\"75.675877\" xlink:href=\"#m530d8efb34\" y=\"111.209563\"/>\n     <use style=\"fill:#ff0000;stroke:#ff0000;\" x=\"396.600349\" xlink:href=\"#m530d8efb34\" y=\"315.998501\"/>\n     <use style=\"fill:#ff0000;stroke:#ff0000;\" x=\"129.285829\" xlink:href=\"#m530d8efb34\" y=\"202.48237\"/>\n     <use style=\"fill:#ff0000;stroke:#ff0000;\" x=\"246.763822\" xlink:href=\"#m530d8efb34\" y=\"281.187524\"/>\n     <use style=\"fill:#ff0000;stroke:#ff0000;\" x=\"156.317444\" xlink:href=\"#m530d8efb34\" y=\"228.170309\"/>\n     <use style=\"fill:#ff0000;stroke:#ff0000;\" x=\"90.582449\" xlink:href=\"#m530d8efb34\" y=\"148.811765\"/>\n     <use style=\"fill:#ff0000;stroke:#ff0000;\" x=\"130.774464\" xlink:href=\"#m530d8efb34\" y=\"204.675816\"/>\n     <use style=\"fill:#ff0000;stroke:#ff0000;\" x=\"112.916001\" xlink:href=\"#m530d8efb34\" y=\"183.812017\"/>\n     <use style=\"fill:#ff0000;stroke:#ff0000;\" x=\"259.283092\" xlink:href=\"#m530d8efb34\" y=\"286.278621\"/>\n     <use style=\"fill:#ff0000;stroke:#ff0000;\" x=\"144.821659\" xlink:href=\"#m530d8efb34\" y=\"217.126036\"/>\n     <use style=\"fill:#ff0000;stroke:#ff0000;\" x=\"282.80611\" xlink:href=\"#m530d8efb34\" y=\"294.804953\"/>\n     <use style=\"fill:#ff0000;stroke:#ff0000;\" x=\"292.41476\" xlink:href=\"#m530d8efb34\" y=\"297.708718\"/>\n     <use style=\"fill:#ff0000;stroke:#ff0000;\" x=\"460.93001\" xlink:href=\"#m530d8efb34\" y=\"318.515828\"/>\n     <use style=\"fill:#ff0000;stroke:#ff0000;\" x=\"76.261892\" xlink:href=\"#m530d8efb34\" y=\"116.992978\"/>\n     <use style=\"fill:#ff0000;stroke:#ff0000;\" x=\"68.801005\" xlink:href=\"#m530d8efb34\" y=\"91.597342\"/>\n     <use style=\"fill:#ff0000;stroke:#ff0000;\" x=\"277.049331\" xlink:href=\"#m530d8efb34\" y=\"293.045832\"/>\n     <use style=\"fill:#ff0000;stroke:#ff0000;\" x=\"192.611737\" xlink:href=\"#m530d8efb34\" y=\"253.316576\"/>\n     <use style=\"fill:#ff0000;stroke:#ff0000;\" x=\"161.383447\" xlink:href=\"#m530d8efb34\" y=\"232.165029\"/>\n     <use style=\"fill:#ff0000;stroke:#ff0000;\" x=\"316.584474\" xlink:href=\"#m530d8efb34\" y=\"303.845704\"/>\n     <use style=\"fill:#ff0000;stroke:#ff0000;\" x=\"344.299862\" xlink:href=\"#m530d8efb34\" y=\"309.584515\"/>\n     <use style=\"fill:#ff0000;stroke:#ff0000;\" x=\"272.090788\" xlink:href=\"#m530d8efb34\" y=\"291.122402\"/>\n     <use style=\"fill:#ff0000;stroke:#ff0000;\" x=\"415.382783\" xlink:href=\"#m530d8efb34\" y=\"317.22738\"/>\n     <use style=\"fill:#ff0000;stroke:#ff0000;\" x=\"61.535721\" xlink:href=\"#m530d8efb34\" y=\"41.61428\"/>\n     <use style=\"fill:#ff0000;stroke:#ff0000;\" x=\"67.720631\" xlink:href=\"#m530d8efb34\" y=\"87.255965\"/>\n     <use style=\"fill:#ff0000;stroke:#ff0000;\" x=\"358.856923\" xlink:href=\"#m530d8efb34\" y=\"312.028348\"/>\n     <use style=\"fill:#ff0000;stroke:#ff0000;\" x=\"217.900331\" xlink:href=\"#m530d8efb34\" y=\"267.175742\"/>\n     <use style=\"fill:#ff0000;stroke:#ff0000;\" x=\"347.237056\" xlink:href=\"#m530d8efb34\" y=\"310.229911\"/>\n     <use style=\"fill:#ff0000;stroke:#ff0000;\" x=\"240.472521\" xlink:href=\"#m530d8efb34\" y=\"278.603163\"/>\n     <use style=\"fill:#ff0000;stroke:#ff0000;\" x=\"85.718695\" xlink:href=\"#m530d8efb34\" y=\"140.069719\"/>\n     <use style=\"fill:#ff0000;stroke:#ff0000;\" x=\"447.414466\" xlink:href=\"#m530d8efb34\" y=\"318.355331\"/>\n     <use style=\"fill:#ff0000;stroke:#ff0000;\" x=\"66.172475\" xlink:href=\"#m530d8efb34\" y=\"76.790656\"/>\n     <use style=\"fill:#ff0000;stroke:#ff0000;\" x=\"216.559815\" xlink:href=\"#m530d8efb34\" y=\"266.865579\"/>\n     <use style=\"fill:#ff0000;stroke:#ff0000;\" x=\"296.809234\" xlink:href=\"#m530d8efb34\" y=\"299.081178\"/>\n     <use style=\"fill:#ff0000;stroke:#ff0000;\" x=\"389.385519\" xlink:href=\"#m530d8efb34\" y=\"315.321849\"/>\n     <use style=\"fill:#ff0000;stroke:#ff0000;\" x=\"288.6237\" xlink:href=\"#m530d8efb34\" y=\"296.631617\"/>\n     <use style=\"fill:#ff0000;stroke:#ff0000;\" x=\"326.640653\" xlink:href=\"#m530d8efb34\" y=\"306.647995\"/>\n     <use style=\"fill:#ff0000;stroke:#ff0000;\" x=\"114.694786\" xlink:href=\"#m530d8efb34\" y=\"185.301677\"/>\n     <use style=\"fill:#ff0000;stroke:#ff0000;\" x=\"168.748787\" xlink:href=\"#m530d8efb34\" y=\"237.075628\"/>\n     <use style=\"fill:#ff0000;stroke:#ff0000;\" x=\"222.924265\" xlink:href=\"#m530d8efb34\" y=\"270.065328\"/>\n     <use style=\"fill:#ff0000;stroke:#ff0000;\" x=\"248.084851\" xlink:href=\"#m530d8efb34\" y=\"281.926226\"/>\n     <use style=\"fill:#ff0000;stroke:#ff0000;\" x=\"193.211104\" xlink:href=\"#m530d8efb34\" y=\"253.81968\"/>\n     <use style=\"fill:#ff0000;stroke:#ff0000;\" x=\"66.283716\" xlink:href=\"#m530d8efb34\" y=\"80.352232\"/>\n     <use style=\"fill:#ff0000;stroke:#ff0000;\" x=\"255.262325\" xlink:href=\"#m530d8efb34\" y=\"284.864629\"/>\n     <use style=\"fill:#ff0000;stroke:#ff0000;\" x=\"332.754674\" xlink:href=\"#m530d8efb34\" y=\"307.836104\"/>\n     <use style=\"fill:#ff0000;stroke:#ff0000;\" x=\"305.718607\" xlink:href=\"#m530d8efb34\" y=\"301.855922\"/>\n     <use style=\"fill:#ff0000;stroke:#ff0000;\" x=\"338.047289\" xlink:href=\"#m530d8efb34\" y=\"308.795449\"/>\n     <use style=\"fill:#ff0000;stroke:#ff0000;\" x=\"411.077757\" xlink:href=\"#m530d8efb34\" y=\"316.98159\"/>\n     <use style=\"fill:#ff0000;stroke:#ff0000;\" x=\"123.294054\" xlink:href=\"#m530d8efb34\" y=\"196.743404\"/>\n     <use style=\"fill:#ff0000;stroke:#ff0000;\" x=\"237.911201\" xlink:href=\"#m530d8efb34\" y=\"277.471018\"/>\n    </g>\n   </g>\n   <g id=\"matplotlib.axis_1\">\n    <g id=\"xtick_1\">\n     <g id=\"line2d_1\">\n      <defs>\n       <path d=\"M 0 0 \nL 0 3.5 \n\" id=\"mf0984af2c2\" style=\"stroke:#000000;stroke-width:0.8;\"/>\n      </defs>\n      <g>\n       <use style=\"stroke:#000000;stroke-width:0.8;\" x=\"60.894034\" xlink:href=\"#mf0984af2c2\" y=\"333.36\"/>\n      </g>\n     </g>\n     <g id=\"text_1\">\n      <!-- 0 -->\n      <defs>\n       <path d=\"M 31.78125 3.421875 \nQ 39.265625 3.421875 42.96875 11.625 \nQ 46.6875 19.828125 46.6875 36.375 \nQ 46.6875 52.984375 42.96875 61.1875 \nQ 39.265625 69.390625 31.78125 69.390625 \nQ 24.3125 69.390625 20.59375 61.1875 \nQ 16.890625 52.984375 16.890625 36.375 \nQ 16.890625 19.828125 20.59375 11.625 \nQ 24.3125 3.421875 31.78125 3.421875 \nz\nM 31.78125 -1.421875 \nQ 19.921875 -1.421875 13.25 8.53125 \nQ 6.59375 18.5 6.59375 36.375 \nQ 6.59375 54.296875 13.25 64.25 \nQ 19.921875 74.21875 31.78125 74.21875 \nQ 43.703125 74.21875 50.34375 64.25 \nQ 56.984375 54.296875 56.984375 36.375 \nQ 56.984375 18.5 50.34375 8.53125 \nQ 43.703125 -1.421875 31.78125 -1.421875 \nz\n\" id=\"DejaVuSerif-48\"/>\n      </defs>\n      <g transform=\"translate(57.712784 347.958438)scale(0.1 -0.1)\">\n       <use xlink:href=\"#DejaVuSerif-48\"/>\n      </g>\n     </g>\n    </g>\n    <g id=\"xtick_2\">\n     <g id=\"line2d_2\">\n      <g>\n       <use style=\"stroke:#000000;stroke-width:0.8;\" x=\"135.492965\" xlink:href=\"#mf0984af2c2\" y=\"333.36\"/>\n      </g>\n     </g>\n     <g id=\"text_2\">\n      <!-- 100 -->\n      <defs>\n       <path d=\"M 14.203125 0 \nL 14.203125 5.171875 \nL 26.90625 5.171875 \nL 26.90625 65.828125 \nL 12.203125 56.296875 \nL 12.203125 62.703125 \nL 29.984375 74.21875 \nL 36.71875 74.21875 \nL 36.71875 5.171875 \nL 49.421875 5.171875 \nL 49.421875 0 \nz\n\" id=\"DejaVuSerif-49\"/>\n      </defs>\n      <g transform=\"translate(125.949215 347.958438)scale(0.1 -0.1)\">\n       <use xlink:href=\"#DejaVuSerif-49\"/>\n       <use x=\"63.623047\" xlink:href=\"#DejaVuSerif-48\"/>\n       <use x=\"127.246094\" xlink:href=\"#DejaVuSerif-48\"/>\n      </g>\n     </g>\n    </g>\n    <g id=\"xtick_3\">\n     <g id=\"line2d_3\">\n      <g>\n       <use style=\"stroke:#000000;stroke-width:0.8;\" x=\"210.091895\" xlink:href=\"#mf0984af2c2\" y=\"333.36\"/>\n      </g>\n     </g>\n     <g id=\"text_3\">\n      <!-- 200 -->\n      <defs>\n       <path d=\"M 12.796875 55.515625 \nL 7.328125 55.515625 \nL 7.328125 68.5 \nQ 12.546875 71.296875 17.84375 72.75 \nQ 23.140625 74.21875 28.21875 74.21875 \nQ 39.59375 74.21875 46.1875 68.703125 \nQ 52.78125 63.1875 52.78125 53.71875 \nQ 52.78125 43.015625 37.84375 28.125 \nQ 36.671875 27 36.078125 26.421875 \nL 17.671875 8.015625 \nL 48.09375 8.015625 \nL 48.09375 17 \nL 53.8125 17 \nL 53.8125 0 \nL 6.78125 0 \nL 6.78125 5.328125 \nL 28.90625 27.390625 \nQ 36.234375 34.71875 39.359375 40.84375 \nQ 42.484375 46.96875 42.484375 53.71875 \nQ 42.484375 61.078125 38.640625 65.234375 \nQ 34.8125 69.390625 28.078125 69.390625 \nQ 21.09375 69.390625 17.28125 65.921875 \nQ 13.484375 62.453125 12.796875 55.515625 \nz\n\" id=\"DejaVuSerif-50\"/>\n      </defs>\n      <g transform=\"translate(200.548145 347.958438)scale(0.1 -0.1)\">\n       <use xlink:href=\"#DejaVuSerif-50\"/>\n       <use x=\"63.623047\" xlink:href=\"#DejaVuSerif-48\"/>\n       <use x=\"127.246094\" xlink:href=\"#DejaVuSerif-48\"/>\n      </g>\n     </g>\n    </g>\n    <g id=\"xtick_4\">\n     <g id=\"line2d_4\">\n      <g>\n       <use style=\"stroke:#000000;stroke-width:0.8;\" x=\"284.690826\" xlink:href=\"#mf0984af2c2\" y=\"333.36\"/>\n      </g>\n     </g>\n     <g id=\"text_4\">\n      <!-- 300 -->\n      <defs>\n       <path d=\"M 9.71875 69.828125 \nQ 15.4375 71.96875 20.671875 73.09375 \nQ 25.921875 74.21875 30.515625 74.21875 \nQ 41.21875 74.21875 47.21875 69.59375 \nQ 53.21875 64.984375 53.21875 56.78125 \nQ 53.21875 50.203125 49.0625 45.78125 \nQ 44.921875 41.359375 37.3125 39.796875 \nQ 46.296875 38.53125 51.25 33.28125 \nQ 56.203125 28.03125 56.203125 19.671875 \nQ 56.203125 9.46875 49.34375 4.015625 \nQ 42.484375 -1.421875 29.59375 -1.421875 \nQ 23.875 -1.421875 18.421875 -0.1875 \nQ 12.984375 1.03125 7.625 3.515625 \nL 7.625 17.671875 \nL 13.09375 17.671875 \nQ 13.578125 10.640625 17.828125 7.03125 \nQ 22.078125 3.421875 29.78125 3.421875 \nQ 37.25 3.421875 41.578125 7.734375 \nQ 45.90625 12.0625 45.90625 19.578125 \nQ 45.90625 28.171875 41.453125 32.59375 \nQ 37.015625 37.015625 28.421875 37.015625 \nL 23.78125 37.015625 \nL 23.78125 42 \nL 26.21875 42 \nQ 34.765625 42 39.03125 45.53125 \nQ 43.3125 49.078125 43.3125 56.203125 \nQ 43.3125 62.59375 39.796875 65.984375 \nQ 36.28125 69.390625 29.6875 69.390625 \nQ 23.09375 69.390625 19.453125 66.265625 \nQ 15.828125 63.140625 15.1875 56.984375 \nL 9.71875 56.984375 \nz\n\" id=\"DejaVuSerif-51\"/>\n      </defs>\n      <g transform=\"translate(275.147076 347.958438)scale(0.1 -0.1)\">\n       <use xlink:href=\"#DejaVuSerif-51\"/>\n       <use x=\"63.623047\" xlink:href=\"#DejaVuSerif-48\"/>\n       <use x=\"127.246094\" xlink:href=\"#DejaVuSerif-48\"/>\n      </g>\n     </g>\n    </g>\n    <g id=\"xtick_5\">\n     <g id=\"line2d_5\">\n      <g>\n       <use style=\"stroke:#000000;stroke-width:0.8;\" x=\"359.289756\" xlink:href=\"#mf0984af2c2\" y=\"333.36\"/>\n      </g>\n     </g>\n     <g id=\"text_5\">\n      <!-- 400 -->\n      <defs>\n       <path d=\"M 34.90625 24.703125 \nL 34.90625 63.484375 \nL 10.015625 24.703125 \nz\nM 56.390625 0 \nL 23.1875 0 \nL 23.1875 5.171875 \nL 34.90625 5.171875 \nL 34.90625 19.484375 \nL 3.078125 19.484375 \nL 3.078125 24.8125 \nL 35.015625 74.21875 \nL 44.671875 74.21875 \nL 44.671875 24.703125 \nL 58.59375 24.703125 \nL 58.59375 19.484375 \nL 44.671875 19.484375 \nL 44.671875 5.171875 \nL 56.390625 5.171875 \nz\n\" id=\"DejaVuSerif-52\"/>\n      </defs>\n      <g transform=\"translate(349.746006 347.958438)scale(0.1 -0.1)\">\n       <use xlink:href=\"#DejaVuSerif-52\"/>\n       <use x=\"63.623047\" xlink:href=\"#DejaVuSerif-48\"/>\n       <use x=\"127.246094\" xlink:href=\"#DejaVuSerif-48\"/>\n      </g>\n     </g>\n    </g>\n    <g id=\"xtick_6\">\n     <g id=\"line2d_6\">\n      <g>\n       <use style=\"stroke:#000000;stroke-width:0.8;\" x=\"433.888687\" xlink:href=\"#mf0984af2c2\" y=\"333.36\"/>\n      </g>\n     </g>\n     <g id=\"text_6\">\n      <!-- 500 -->\n      <defs>\n       <path d=\"M 50.296875 72.90625 \nL 50.296875 64.890625 \nL 16.890625 64.890625 \nL 16.890625 44 \nQ 19.4375 45.75 22.828125 46.625 \nQ 26.21875 47.515625 30.421875 47.515625 \nQ 42.234375 47.515625 49.0625 40.96875 \nQ 55.90625 34.421875 55.90625 23.09375 \nQ 55.90625 11.53125 49 5.046875 \nQ 42.09375 -1.421875 29.59375 -1.421875 \nQ 24.5625 -1.421875 19.28125 -0.1875 \nQ 14.015625 1.03125 8.5 3.515625 \nL 8.5 17.671875 \nL 14.015625 17.671875 \nQ 14.453125 10.75 18.421875 7.078125 \nQ 22.40625 3.421875 29.59375 3.421875 \nQ 37.3125 3.421875 41.453125 8.5 \nQ 45.609375 13.578125 45.609375 23.09375 \nQ 45.609375 32.5625 41.484375 37.609375 \nQ 37.359375 42.671875 29.59375 42.671875 \nQ 25.203125 42.671875 21.84375 41.109375 \nQ 18.5 39.546875 15.921875 36.28125 \nL 11.71875 36.28125 \nL 11.71875 72.90625 \nz\n\" id=\"DejaVuSerif-53\"/>\n      </defs>\n      <g transform=\"translate(424.344937 347.958438)scale(0.1 -0.1)\">\n       <use xlink:href=\"#DejaVuSerif-53\"/>\n       <use x=\"63.623047\" xlink:href=\"#DejaVuSerif-48\"/>\n       <use x=\"127.246094\" xlink:href=\"#DejaVuSerif-48\"/>\n      </g>\n     </g>\n    </g>\n    <g id=\"text_7\">\n     <!-- $f_{1}$ -->\n     <defs>\n      <path d=\"M 47.796875 75.984375 \nL 46.390625 68.5 \nL 37.796875 68.5 \nQ 32.90625 68.5 30.6875 66.578125 \nQ 28.46875 64.65625 27.390625 59.515625 \nL 26.421875 54.6875 \nL 41.21875 54.6875 \nL 39.890625 47.703125 \nL 25.09375 47.703125 \nL 15.828125 0 \nL 6.78125 0 \nL 16.109375 47.703125 \nL 7.515625 47.703125 \nL 8.796875 54.6875 \nL 17.390625 54.6875 \nL 18.109375 58.5 \nQ 19.96875 68.171875 24.625 72.078125 \nQ 29.296875 75.984375 39.3125 75.984375 \nz\n\" id=\"DejaVuSans-Oblique-102\"/>\n      <path d=\"M 12.40625 8.296875 \nL 28.515625 8.296875 \nL 28.515625 63.921875 \nL 10.984375 60.40625 \nL 10.984375 69.390625 \nL 28.421875 72.90625 \nL 38.28125 72.90625 \nL 38.28125 8.296875 \nL 54.390625 8.296875 \nL 54.390625 0 \nL 12.40625 0 \nz\n\" id=\"DejaVuSans-49\"/>\n     </defs>\n     <g transform=\"translate(259.653125 361.636562)scale(0.1 -0.1)\">\n      <use transform=\"translate(0 0.015625)\" xlink:href=\"#DejaVuSans-Oblique-102\"/>\n      <use transform=\"translate(35.205078 -16.390625)scale(0.7)\" xlink:href=\"#DejaVuSans-49\"/>\n     </g>\n    </g>\n   </g>\n   <g id=\"matplotlib.axis_2\">\n    <g id=\"ytick_1\">\n     <g id=\"line2d_7\">\n      <defs>\n       <path d=\"M 0 0 \nL -3.5 0 \n\" id=\"m85998ffaa3\" style=\"stroke:#000000;stroke-width:0.8;\"/>\n      </defs>\n      <g>\n       <use style=\"stroke:#000000;stroke-width:0.8;\" x=\"40.603125\" xlink:href=\"#m85998ffaa3\" y=\"279.859446\"/>\n      </g>\n     </g>\n     <g id=\"text_8\">\n      <!-- 10 -->\n      <g transform=\"translate(20.878125 283.658665)scale(0.1 -0.1)\">\n       <use xlink:href=\"#DejaVuSerif-49\"/>\n       <use x=\"63.623047\" xlink:href=\"#DejaVuSerif-48\"/>\n      </g>\n     </g>\n    </g>\n    <g id=\"ytick_2\">\n     <g id=\"line2d_8\">\n      <g>\n       <use style=\"stroke:#000000;stroke-width:0.8;\" x=\"40.603125\" xlink:href=\"#m85998ffaa3\" y=\"215.400948\"/>\n      </g>\n     </g>\n     <g id=\"text_9\">\n      <!-- 20 -->\n      <g transform=\"translate(20.878125 219.200167)scale(0.1 -0.1)\">\n       <use xlink:href=\"#DejaVuSerif-50\"/>\n       <use x=\"63.623047\" xlink:href=\"#DejaVuSerif-48\"/>\n      </g>\n     </g>\n    </g>\n    <g id=\"ytick_3\">\n     <g id=\"line2d_9\">\n      <g>\n       <use style=\"stroke:#000000;stroke-width:0.8;\" x=\"40.603125\" xlink:href=\"#m85998ffaa3\" y=\"150.94245\"/>\n      </g>\n     </g>\n     <g id=\"text_10\">\n      <!-- 30 -->\n      <g transform=\"translate(20.878125 154.741669)scale(0.1 -0.1)\">\n       <use xlink:href=\"#DejaVuSerif-51\"/>\n       <use x=\"63.623047\" xlink:href=\"#DejaVuSerif-48\"/>\n      </g>\n     </g>\n    </g>\n    <g id=\"ytick_4\">\n     <g id=\"line2d_10\">\n      <g>\n       <use style=\"stroke:#000000;stroke-width:0.8;\" x=\"40.603125\" xlink:href=\"#m85998ffaa3\" y=\"86.483951\"/>\n      </g>\n     </g>\n     <g id=\"text_11\">\n      <!-- 40 -->\n      <g transform=\"translate(20.878125 90.28317)scale(0.1 -0.1)\">\n       <use xlink:href=\"#DejaVuSerif-52\"/>\n       <use x=\"63.623047\" xlink:href=\"#DejaVuSerif-48\"/>\n      </g>\n     </g>\n    </g>\n    <g id=\"ytick_5\">\n     <g id=\"line2d_11\">\n      <g>\n       <use style=\"stroke:#000000;stroke-width:0.8;\" x=\"40.603125\" xlink:href=\"#m85998ffaa3\" y=\"22.025453\"/>\n      </g>\n     </g>\n     <g id=\"text_12\">\n      <!-- 50 -->\n      <g transform=\"translate(20.878125 25.824672)scale(0.1 -0.1)\">\n       <use xlink:href=\"#DejaVuSerif-53\"/>\n       <use x=\"63.623047\" xlink:href=\"#DejaVuSerif-48\"/>\n      </g>\n     </g>\n    </g>\n    <g id=\"text_13\">\n     <!-- $f_{2}$ -->\n     <defs>\n      <path d=\"M 19.1875 8.296875 \nL 53.609375 8.296875 \nL 53.609375 0 \nL 7.328125 0 \nL 7.328125 8.296875 \nQ 12.9375 14.109375 22.625 23.890625 \nQ 32.328125 33.6875 34.8125 36.53125 \nQ 39.546875 41.84375 41.421875 45.53125 \nQ 43.3125 49.21875 43.3125 52.78125 \nQ 43.3125 58.59375 39.234375 62.25 \nQ 35.15625 65.921875 28.609375 65.921875 \nQ 23.96875 65.921875 18.8125 64.3125 \nQ 13.671875 62.703125 7.8125 59.421875 \nL 7.8125 69.390625 \nQ 13.765625 71.78125 18.9375 73 \nQ 24.125 74.21875 28.421875 74.21875 \nQ 39.75 74.21875 46.484375 68.546875 \nQ 53.21875 62.890625 53.21875 53.421875 \nQ 53.21875 48.921875 51.53125 44.890625 \nQ 49.859375 40.875 45.40625 35.40625 \nQ 44.1875 33.984375 37.640625 27.21875 \nQ 31.109375 20.453125 19.1875 8.296875 \nz\n\" id=\"DejaVuSans-50\"/>\n     </defs>\n     <g transform=\"translate(14.798438 174.43)rotate(-90)scale(0.1 -0.1)\">\n      <use transform=\"translate(0 0.015625)\" xlink:href=\"#DejaVuSans-Oblique-102\"/>\n      <use transform=\"translate(35.205078 -16.390625)scale(0.7)\" xlink:href=\"#DejaVuSans-50\"/>\n     </g>\n    </g>\n   </g>\n   <g id=\"patch_3\">\n    <path d=\"M 40.603125 333.36 \nL 40.603125 7.2 \n\" style=\"fill:none;stroke:#000000;stroke-linecap:square;stroke-linejoin:miter;stroke-width:0.8;\"/>\n   </g>\n   <g id=\"patch_4\">\n    <path d=\"M 487.003125 333.36 \nL 487.003125 7.2 \n\" style=\"fill:none;stroke:#000000;stroke-linecap:square;stroke-linejoin:miter;stroke-width:0.8;\"/>\n   </g>\n   <g id=\"patch_5\">\n    <path d=\"M 40.603125 333.36 \nL 487.003125 333.36 \n\" style=\"fill:none;stroke:#000000;stroke-linecap:square;stroke-linejoin:miter;stroke-width:0.8;\"/>\n   </g>\n   <g id=\"patch_6\">\n    <path d=\"M 40.603125 7.2 \nL 487.003125 7.2 \n\" style=\"fill:none;stroke:#000000;stroke-linecap:square;stroke-linejoin:miter;stroke-width:0.8;\"/>\n   </g>\n  </g>\n </g>\n <defs>\n  <clipPath id=\"p39b31a8c09\">\n   <rect height=\"326.16\" width=\"446.4\" x=\"40.603125\" y=\"7.2\"/>\n  </clipPath>\n </defs>\n</svg>\n",
      "image/png": "[encoded data removed]"
     },
     "metadata": {
      "needs_background": "light"
     }
    }
   ],
   "source": [
    "plot = Scatter()\n",
    "plot.add(bk_problem.pareto_front(), plot_type=\"line\", color=\"black\", alpha=0.7)\n",
    "plot.add(res.F, color=\"red\")\n",
    "plot.show()"
   ]
  },
  {
   "cell_type": "code",
   "execution_count": 56,
   "metadata": {},
   "outputs": [
    {
     "output_type": "execute_result",
     "data": {
      "text/plain": [
       "(100,)"
      ]
     },
     "metadata": {},
     "execution_count": 56
    }
   ],
   "source": []
  },
  {
   "cell_type": "code",
   "execution_count": 208,
   "metadata": {},
   "outputs": [],
   "source": [
    "data = b.iloc[:,1:5]\n",
    "data.columns = map(str.lower , data.columns)\n",
    "data['date'] = data['date'].astype('str')\n",
    "final_data = data.groupby('date')['interaction'].sum()\n",
    "final_data = final_data.reset_index()[:-2]"
   ]
  },
  {
   "cell_type": "code",
   "execution_count": 255,
   "metadata": {},
   "outputs": [
    {
     "output_type": "display_data",
     "data": {
      "text/plain": "<Figure size 500x400 with 1 Axes>",
      "image/svg+xml": "<?xml version=\"1.0\" encoding=\"utf-8\" standalone=\"no\"?>\n<!DOCTYPE svg PUBLIC \"-//W3C//DTD SVG 1.1//EN\"\n  \"http://www.w3.org/Graphics/SVG/1.1/DTD/svg11.dtd\">\n<svg height=\"332.541875pt\" version=\"1.1\" viewBox=\"0 0 357.8225 332.541875\" width=\"357.8225pt\" xmlns=\"http://www.w3.org/2000/svg\" xmlns:xlink=\"http://www.w3.org/1999/xlink\">\n <metadata>\n  <rdf:RDF xmlns:cc=\"http://creativecommons.org/ns#\" xmlns:dc=\"http://purl.org/dc/elements/1.1/\" xmlns:rdf=\"http://www.w3.org/1999/02/22-rdf-syntax-ns#\">\n   <cc:Work>\n    <dc:type rdf:resource=\"http://purl.org/dc/dcmitype/StillImage\"/>\n    <dc:date>2021-05-27T18:57:30.461229</dc:date>\n    <dc:format>image/svg+xml</dc:format>\n    <dc:creator>\n     <cc:Agent>\n      <dc:title>Matplotlib v3.4.1, https://matplotlib.org/</dc:title>\n     </cc:Agent>\n    </dc:creator>\n   </cc:Work>\n  </rdf:RDF>\n </metadata>\n <defs>\n  <style type=\"text/css\">*{stroke-linecap:butt;stroke-linejoin:round;}</style>\n </defs>\n <g id=\"figure_1\">\n  <g id=\"patch_1\">\n   <path d=\"M 0 332.541875 \nL 357.8225 332.541875 \nL 357.8225 0 \nL 0 0 \nz\n\" style=\"fill:#f0f0f0;\"/>\n  </g>\n  <g id=\"axes_1\">\n   <g id=\"patch_2\">\n    <path d=\"M 37.4225 240.48 \nL 350.6225 240.48 \nL 350.6225 7.2 \nL 37.4225 7.2 \nz\n\" style=\"fill:#f0f0f0;\"/>\n   </g>\n   <g id=\"matplotlib.axis_1\">\n    <g id=\"xtick_1\">\n     <g id=\"line2d_1\">\n      <path clip-path=\"url(#pd16134bec8)\" d=\"M 51.658864 240.48 \nL 51.658864 7.2 \n\" style=\"fill:none;stroke:#cbcbcb;\"/>\n     </g>\n     <g id=\"line2d_2\"/>\n     <g id=\"text_1\">\n      <!-- 2021-04-30 -->\n      <g transform=\"translate(55.521989 325.341875)rotate(-90)scale(0.14 -0.14)\">\n       <defs>\n        <path d=\"M 1228 531 \nL 3431 531 \nL 3431 0 \nL 469 0 \nL 469 531 \nQ 828 903 1448 1529 \nQ 2069 2156 2228 2338 \nQ 2531 2678 2651 2914 \nQ 2772 3150 2772 3378 \nQ 2772 3750 2511 3984 \nQ 2250 4219 1831 4219 \nQ 1534 4219 1204 4116 \nQ 875 4013 500 3803 \nL 500 4441 \nQ 881 4594 1212 4672 \nQ 1544 4750 1819 4750 \nQ 2544 4750 2975 4387 \nQ 3406 4025 3406 3419 \nQ 3406 3131 3298 2873 \nQ 3191 2616 2906 2266 \nQ 2828 2175 2409 1742 \nQ 1991 1309 1228 531 \nz\n\" id=\"DejaVuSans-32\" transform=\"scale(0.015625)\"/>\n        <path d=\"M 2034 4250 \nQ 1547 4250 1301 3770 \nQ 1056 3291 1056 2328 \nQ 1056 1369 1301 889 \nQ 1547 409 2034 409 \nQ 2525 409 2770 889 \nQ 3016 1369 3016 2328 \nQ 3016 3291 2770 3770 \nQ 2525 4250 2034 4250 \nz\nM 2034 4750 \nQ 2819 4750 3233 4129 \nQ 3647 3509 3647 2328 \nQ 3647 1150 3233 529 \nQ 2819 -91 2034 -91 \nQ 1250 -91 836 529 \nQ 422 1150 422 2328 \nQ 422 3509 836 4129 \nQ 1250 4750 2034 4750 \nz\n\" id=\"DejaVuSans-30\" transform=\"scale(0.015625)\"/>\n        <path d=\"M 794 531 \nL 1825 531 \nL 1825 4091 \nL 703 3866 \nL 703 4441 \nL 1819 4666 \nL 2450 4666 \nL 2450 531 \nL 3481 531 \nL 3481 0 \nL 794 0 \nL 794 531 \nz\n\" id=\"DejaVuSans-31\" transform=\"scale(0.015625)\"/>\n        <path d=\"M 313 2009 \nL 1997 2009 \nL 1997 1497 \nL 313 1497 \nL 313 2009 \nz\n\" id=\"DejaVuSans-2d\" transform=\"scale(0.015625)\"/>\n        <path d=\"M 2419 4116 \nL 825 1625 \nL 2419 1625 \nL 2419 4116 \nz\nM 2253 4666 \nL 3047 4666 \nL 3047 1625 \nL 3713 1625 \nL 3713 1100 \nL 3047 1100 \nL 3047 0 \nL 2419 0 \nL 2419 1100 \nL 313 1100 \nL 313 1709 \nL 2253 4666 \nz\n\" id=\"DejaVuSans-34\" transform=\"scale(0.015625)\"/>\n        <path d=\"M 2597 2516 \nQ 3050 2419 3304 2112 \nQ 3559 1806 3559 1356 \nQ 3559 666 3084 287 \nQ 2609 -91 1734 -91 \nQ 1441 -91 1130 -33 \nQ 819 25 488 141 \nL 488 750 \nQ 750 597 1062 519 \nQ 1375 441 1716 441 \nQ 2309 441 2620 675 \nQ 2931 909 2931 1356 \nQ 2931 1769 2642 2001 \nQ 2353 2234 1838 2234 \nL 1294 2234 \nL 1294 2753 \nL 1863 2753 \nQ 2328 2753 2575 2939 \nQ 2822 3125 2822 3475 \nQ 2822 3834 2567 4026 \nQ 2313 4219 1838 4219 \nQ 1578 4219 1281 4162 \nQ 984 4106 628 3988 \nL 628 4550 \nQ 988 4650 1302 4700 \nQ 1616 4750 1894 4750 \nQ 2613 4750 3031 4423 \nQ 3450 4097 3450 3541 \nQ 3450 3153 3228 2886 \nQ 3006 2619 2597 2516 \nz\n\" id=\"DejaVuSans-33\" transform=\"scale(0.015625)\"/>\n       </defs>\n       <use xlink:href=\"#DejaVuSans-32\"/>\n       <use x=\"63.623047\" xlink:href=\"#DejaVuSans-30\"/>\n       <use x=\"127.246094\" xlink:href=\"#DejaVuSans-32\"/>\n       <use x=\"190.869141\" xlink:href=\"#DejaVuSans-31\"/>\n       <use x=\"254.492188\" xlink:href=\"#DejaVuSans-2d\"/>\n       <use x=\"290.576172\" xlink:href=\"#DejaVuSans-30\"/>\n       <use x=\"354.199219\" xlink:href=\"#DejaVuSans-34\"/>\n       <use x=\"417.822266\" xlink:href=\"#DejaVuSans-2d\"/>\n       <use x=\"453.90625\" xlink:href=\"#DejaVuSans-33\"/>\n       <use x=\"517.529297\" xlink:href=\"#DejaVuSans-30\"/>\n      </g>\n     </g>\n    </g>\n    <g id=\"xtick_2\">\n     <g id=\"line2d_3\">\n      <path clip-path=\"url(#pd16134bec8)\" d=\"M 77.543161 240.48 \nL 77.543161 7.2 \n\" style=\"fill:none;stroke:#cbcbcb;\"/>\n     </g>\n     <g id=\"line2d_4\"/>\n     <g id=\"text_2\">\n      <!-- 2021-05-01 -->\n      <g transform=\"translate(81.406286 325.341875)rotate(-90)scale(0.14 -0.14)\">\n       <defs>\n        <path d=\"M 691 4666 \nL 3169 4666 \nL 3169 4134 \nL 1269 4134 \nL 1269 2991 \nQ 1406 3038 1543 3061 \nQ 1681 3084 1819 3084 \nQ 2600 3084 3056 2656 \nQ 3513 2228 3513 1497 \nQ 3513 744 3044 326 \nQ 2575 -91 1722 -91 \nQ 1428 -91 1123 -41 \nQ 819 9 494 109 \nL 494 744 \nQ 775 591 1075 516 \nQ 1375 441 1709 441 \nQ 2250 441 2565 725 \nQ 2881 1009 2881 1497 \nQ 2881 1984 2565 2268 \nQ 2250 2553 1709 2553 \nQ 1456 2553 1204 2497 \nQ 953 2441 691 2322 \nL 691 4666 \nz\n\" id=\"DejaVuSans-35\" transform=\"scale(0.015625)\"/>\n       </defs>\n       <use xlink:href=\"#DejaVuSans-32\"/>\n       <use x=\"63.623047\" xlink:href=\"#DejaVuSans-30\"/>\n       <use x=\"127.246094\" xlink:href=\"#DejaVuSans-32\"/>\n       <use x=\"190.869141\" xlink:href=\"#DejaVuSans-31\"/>\n       <use x=\"254.492188\" xlink:href=\"#DejaVuSans-2d\"/>\n       <use x=\"290.576172\" xlink:href=\"#DejaVuSans-30\"/>\n       <use x=\"354.199219\" xlink:href=\"#DejaVuSans-35\"/>\n       <use x=\"417.822266\" xlink:href=\"#DejaVuSans-2d\"/>\n       <use x=\"453.90625\" xlink:href=\"#DejaVuSans-30\"/>\n       <use x=\"517.529297\" xlink:href=\"#DejaVuSans-31\"/>\n      </g>\n     </g>\n    </g>\n    <g id=\"xtick_3\">\n     <g id=\"line2d_5\">\n      <path clip-path=\"url(#pd16134bec8)\" d=\"M 103.427459 240.48 \nL 103.427459 7.2 \n\" style=\"fill:none;stroke:#cbcbcb;\"/>\n     </g>\n     <g id=\"line2d_6\"/>\n     <g id=\"text_3\">\n      <!-- 2021-05-03 -->\n      <g transform=\"translate(107.290584 325.341875)rotate(-90)scale(0.14 -0.14)\">\n       <use xlink:href=\"#DejaVuSans-32\"/>\n       <use x=\"63.623047\" xlink:href=\"#DejaVuSans-30\"/>\n       <use x=\"127.246094\" xlink:href=\"#DejaVuSans-32\"/>\n       <use x=\"190.869141\" xlink:href=\"#DejaVuSans-31\"/>\n       <use x=\"254.492188\" xlink:href=\"#DejaVuSans-2d\"/>\n       <use x=\"290.576172\" xlink:href=\"#DejaVuSans-30\"/>\n       <use x=\"354.199219\" xlink:href=\"#DejaVuSans-35\"/>\n       <use x=\"417.822266\" xlink:href=\"#DejaVuSans-2d\"/>\n       <use x=\"453.90625\" xlink:href=\"#DejaVuSans-30\"/>\n       <use x=\"517.529297\" xlink:href=\"#DejaVuSans-33\"/>\n      </g>\n     </g>\n    </g>\n    <g id=\"xtick_4\">\n     <g id=\"line2d_7\">\n      <path clip-path=\"url(#pd16134bec8)\" d=\"M 129.311756 240.48 \nL 129.311756 7.2 \n\" style=\"fill:none;stroke:#cbcbcb;\"/>\n     </g>\n     <g id=\"line2d_8\"/>\n     <g id=\"text_4\">\n      <!-- 2021-05-05 -->\n      <g transform=\"translate(133.174881 325.341875)rotate(-90)scale(0.14 -0.14)\">\n       <use xlink:href=\"#DejaVuSans-32\"/>\n       <use x=\"63.623047\" xlink:href=\"#DejaVuSans-30\"/>\n       <use x=\"127.246094\" xlink:href=\"#DejaVuSans-32\"/>\n       <use x=\"190.869141\" xlink:href=\"#DejaVuSans-31\"/>\n       <use x=\"254.492188\" xlink:href=\"#DejaVuSans-2d\"/>\n       <use x=\"290.576172\" xlink:href=\"#DejaVuSans-30\"/>\n       <use x=\"354.199219\" xlink:href=\"#DejaVuSans-35\"/>\n       <use x=\"417.822266\" xlink:href=\"#DejaVuSans-2d\"/>\n       <use x=\"453.90625\" xlink:href=\"#DejaVuSans-30\"/>\n       <use x=\"517.529297\" xlink:href=\"#DejaVuSans-35\"/>\n      </g>\n     </g>\n    </g>\n    <g id=\"xtick_5\">\n     <g id=\"line2d_9\">\n      <path clip-path=\"url(#pd16134bec8)\" d=\"M 155.196054 240.48 \nL 155.196054 7.2 \n\" style=\"fill:none;stroke:#cbcbcb;\"/>\n     </g>\n     <g id=\"line2d_10\"/>\n     <g id=\"text_5\">\n      <!-- 2021-05-06 -->\n      <g transform=\"translate(159.059179 325.341875)rotate(-90)scale(0.14 -0.14)\">\n       <defs>\n        <path d=\"M 2113 2584 \nQ 1688 2584 1439 2293 \nQ 1191 2003 1191 1497 \nQ 1191 994 1439 701 \nQ 1688 409 2113 409 \nQ 2538 409 2786 701 \nQ 3034 994 3034 1497 \nQ 3034 2003 2786 2293 \nQ 2538 2584 2113 2584 \nz\nM 3366 4563 \nL 3366 3988 \nQ 3128 4100 2886 4159 \nQ 2644 4219 2406 4219 \nQ 1781 4219 1451 3797 \nQ 1122 3375 1075 2522 \nQ 1259 2794 1537 2939 \nQ 1816 3084 2150 3084 \nQ 2853 3084 3261 2657 \nQ 3669 2231 3669 1497 \nQ 3669 778 3244 343 \nQ 2819 -91 2113 -91 \nQ 1303 -91 875 529 \nQ 447 1150 447 2328 \nQ 447 3434 972 4092 \nQ 1497 4750 2381 4750 \nQ 2619 4750 2861 4703 \nQ 3103 4656 3366 4563 \nz\n\" id=\"DejaVuSans-36\" transform=\"scale(0.015625)\"/>\n       </defs>\n       <use xlink:href=\"#DejaVuSans-32\"/>\n       <use x=\"63.623047\" xlink:href=\"#DejaVuSans-30\"/>\n       <use x=\"127.246094\" xlink:href=\"#DejaVuSans-32\"/>\n       <use x=\"190.869141\" xlink:href=\"#DejaVuSans-31\"/>\n       <use x=\"254.492188\" xlink:href=\"#DejaVuSans-2d\"/>\n       <use x=\"290.576172\" xlink:href=\"#DejaVuSans-30\"/>\n       <use x=\"354.199219\" xlink:href=\"#DejaVuSans-35\"/>\n       <use x=\"417.822266\" xlink:href=\"#DejaVuSans-2d\"/>\n       <use x=\"453.90625\" xlink:href=\"#DejaVuSans-30\"/>\n       <use x=\"517.529297\" xlink:href=\"#DejaVuSans-36\"/>\n      </g>\n     </g>\n    </g>\n    <g id=\"xtick_6\">\n     <g id=\"line2d_11\">\n      <path clip-path=\"url(#pd16134bec8)\" d=\"M 181.080351 240.48 \nL 181.080351 7.2 \n\" style=\"fill:none;stroke:#cbcbcb;\"/>\n     </g>\n     <g id=\"line2d_12\"/>\n     <g id=\"text_6\">\n      <!-- 2021-05-10 -->\n      <g transform=\"translate(184.943476 325.341875)rotate(-90)scale(0.14 -0.14)\">\n       <use xlink:href=\"#DejaVuSans-32\"/>\n       <use x=\"63.623047\" xlink:href=\"#DejaVuSans-30\"/>\n       <use x=\"127.246094\" xlink:href=\"#DejaVuSans-32\"/>\n       <use x=\"190.869141\" xlink:href=\"#DejaVuSans-31\"/>\n       <use x=\"254.492188\" xlink:href=\"#DejaVuSans-2d\"/>\n       <use x=\"290.576172\" xlink:href=\"#DejaVuSans-30\"/>\n       <use x=\"354.199219\" xlink:href=\"#DejaVuSans-35\"/>\n       <use x=\"417.822266\" xlink:href=\"#DejaVuSans-2d\"/>\n       <use x=\"453.90625\" xlink:href=\"#DejaVuSans-31\"/>\n       <use x=\"517.529297\" xlink:href=\"#DejaVuSans-30\"/>\n      </g>\n     </g>\n    </g>\n    <g id=\"xtick_7\">\n     <g id=\"line2d_13\">\n      <path clip-path=\"url(#pd16134bec8)\" d=\"M 206.964649 240.48 \nL 206.964649 7.2 \n\" style=\"fill:none;stroke:#cbcbcb;\"/>\n     </g>\n     <g id=\"line2d_14\"/>\n     <g id=\"text_7\">\n      <!-- 2021-05-11 -->\n      <g transform=\"translate(210.827774 325.341875)rotate(-90)scale(0.14 -0.14)\">\n       <use xlink:href=\"#DejaVuSans-32\"/>\n       <use x=\"63.623047\" xlink:href=\"#DejaVuSans-30\"/>\n       <use x=\"127.246094\" xlink:href=\"#DejaVuSans-32\"/>\n       <use x=\"190.869141\" xlink:href=\"#DejaVuSans-31\"/>\n       <use x=\"254.492188\" xlink:href=\"#DejaVuSans-2d\"/>\n       <use x=\"290.576172\" xlink:href=\"#DejaVuSans-30\"/>\n       <use x=\"354.199219\" xlink:href=\"#DejaVuSans-35\"/>\n       <use x=\"417.822266\" xlink:href=\"#DejaVuSans-2d\"/>\n       <use x=\"453.90625\" xlink:href=\"#DejaVuSans-31\"/>\n       <use x=\"517.529297\" xlink:href=\"#DejaVuSans-31\"/>\n      </g>\n     </g>\n    </g>\n    <g id=\"xtick_8\">\n     <g id=\"line2d_15\">\n      <path clip-path=\"url(#pd16134bec8)\" d=\"M 232.848946 240.48 \nL 232.848946 7.2 \n\" style=\"fill:none;stroke:#cbcbcb;\"/>\n     </g>\n     <g id=\"line2d_16\"/>\n     <g id=\"text_8\">\n      <!-- 2021-05-13 -->\n      <g transform=\"translate(236.712071 325.341875)rotate(-90)scale(0.14 -0.14)\">\n       <use xlink:href=\"#DejaVuSans-32\"/>\n       <use x=\"63.623047\" xlink:href=\"#DejaVuSans-30\"/>\n       <use x=\"127.246094\" xlink:href=\"#DejaVuSans-32\"/>\n       <use x=\"190.869141\" xlink:href=\"#DejaVuSans-31\"/>\n       <use x=\"254.492188\" xlink:href=\"#DejaVuSans-2d\"/>\n       <use x=\"290.576172\" xlink:href=\"#DejaVuSans-30\"/>\n       <use x=\"354.199219\" xlink:href=\"#DejaVuSans-35\"/>\n       <use x=\"417.822266\" xlink:href=\"#DejaVuSans-2d\"/>\n       <use x=\"453.90625\" xlink:href=\"#DejaVuSans-31\"/>\n       <use x=\"517.529297\" xlink:href=\"#DejaVuSans-33\"/>\n      </g>\n     </g>\n    </g>\n    <g id=\"xtick_9\">\n     <g id=\"line2d_17\">\n      <path clip-path=\"url(#pd16134bec8)\" d=\"M 258.733244 240.48 \nL 258.733244 7.2 \n\" style=\"fill:none;stroke:#cbcbcb;\"/>\n     </g>\n     <g id=\"line2d_18\"/>\n     <g id=\"text_9\">\n      <!-- 2021-05-18 -->\n      <g transform=\"translate(262.596369 325.341875)rotate(-90)scale(0.14 -0.14)\">\n       <defs>\n        <path d=\"M 2034 2216 \nQ 1584 2216 1326 1975 \nQ 1069 1734 1069 1313 \nQ 1069 891 1326 650 \nQ 1584 409 2034 409 \nQ 2484 409 2743 651 \nQ 3003 894 3003 1313 \nQ 3003 1734 2745 1975 \nQ 2488 2216 2034 2216 \nz\nM 1403 2484 \nQ 997 2584 770 2862 \nQ 544 3141 544 3541 \nQ 544 4100 942 4425 \nQ 1341 4750 2034 4750 \nQ 2731 4750 3128 4425 \nQ 3525 4100 3525 3541 \nQ 3525 3141 3298 2862 \nQ 3072 2584 2669 2484 \nQ 3125 2378 3379 2068 \nQ 3634 1759 3634 1313 \nQ 3634 634 3220 271 \nQ 2806 -91 2034 -91 \nQ 1263 -91 848 271 \nQ 434 634 434 1313 \nQ 434 1759 690 2068 \nQ 947 2378 1403 2484 \nz\nM 1172 3481 \nQ 1172 3119 1398 2916 \nQ 1625 2713 2034 2713 \nQ 2441 2713 2670 2916 \nQ 2900 3119 2900 3481 \nQ 2900 3844 2670 4047 \nQ 2441 4250 2034 4250 \nQ 1625 4250 1398 4047 \nQ 1172 3844 1172 3481 \nz\n\" id=\"DejaVuSans-38\" transform=\"scale(0.015625)\"/>\n       </defs>\n       <use xlink:href=\"#DejaVuSans-32\"/>\n       <use x=\"63.623047\" xlink:href=\"#DejaVuSans-30\"/>\n       <use x=\"127.246094\" xlink:href=\"#DejaVuSans-32\"/>\n       <use x=\"190.869141\" xlink:href=\"#DejaVuSans-31\"/>\n       <use x=\"254.492188\" xlink:href=\"#DejaVuSans-2d\"/>\n       <use x=\"290.576172\" xlink:href=\"#DejaVuSans-30\"/>\n       <use x=\"354.199219\" xlink:href=\"#DejaVuSans-35\"/>\n       <use x=\"417.822266\" xlink:href=\"#DejaVuSans-2d\"/>\n       <use x=\"453.90625\" xlink:href=\"#DejaVuSans-31\"/>\n       <use x=\"517.529297\" xlink:href=\"#DejaVuSans-38\"/>\n      </g>\n     </g>\n    </g>\n    <g id=\"xtick_10\">\n     <g id=\"line2d_19\">\n      <path clip-path=\"url(#pd16134bec8)\" d=\"M 284.617541 240.48 \nL 284.617541 7.2 \n\" style=\"fill:none;stroke:#cbcbcb;\"/>\n     </g>\n     <g id=\"line2d_20\"/>\n     <g id=\"text_10\">\n      <!-- 2021-05-19 -->\n      <g transform=\"translate(288.480666 325.341875)rotate(-90)scale(0.14 -0.14)\">\n       <defs>\n        <path d=\"M 703 97 \nL 703 672 \nQ 941 559 1184 500 \nQ 1428 441 1663 441 \nQ 2288 441 2617 861 \nQ 2947 1281 2994 2138 \nQ 2813 1869 2534 1725 \nQ 2256 1581 1919 1581 \nQ 1219 1581 811 2004 \nQ 403 2428 403 3163 \nQ 403 3881 828 4315 \nQ 1253 4750 1959 4750 \nQ 2769 4750 3195 4129 \nQ 3622 3509 3622 2328 \nQ 3622 1225 3098 567 \nQ 2575 -91 1691 -91 \nQ 1453 -91 1209 -44 \nQ 966 3 703 97 \nz\nM 1959 2075 \nQ 2384 2075 2632 2365 \nQ 2881 2656 2881 3163 \nQ 2881 3666 2632 3958 \nQ 2384 4250 1959 4250 \nQ 1534 4250 1286 3958 \nQ 1038 3666 1038 3163 \nQ 1038 2656 1286 2365 \nQ 1534 2075 1959 2075 \nz\n\" id=\"DejaVuSans-39\" transform=\"scale(0.015625)\"/>\n       </defs>\n       <use xlink:href=\"#DejaVuSans-32\"/>\n       <use x=\"63.623047\" xlink:href=\"#DejaVuSans-30\"/>\n       <use x=\"127.246094\" xlink:href=\"#DejaVuSans-32\"/>\n       <use x=\"190.869141\" xlink:href=\"#DejaVuSans-31\"/>\n       <use x=\"254.492188\" xlink:href=\"#DejaVuSans-2d\"/>\n       <use x=\"290.576172\" xlink:href=\"#DejaVuSans-30\"/>\n       <use x=\"354.199219\" xlink:href=\"#DejaVuSans-35\"/>\n       <use x=\"417.822266\" xlink:href=\"#DejaVuSans-2d\"/>\n       <use x=\"453.90625\" xlink:href=\"#DejaVuSans-31\"/>\n       <use x=\"517.529297\" xlink:href=\"#DejaVuSans-39\"/>\n      </g>\n     </g>\n    </g>\n    <g id=\"xtick_11\">\n     <g id=\"line2d_21\">\n      <path clip-path=\"url(#pd16134bec8)\" d=\"M 310.501839 240.48 \nL 310.501839 7.2 \n\" style=\"fill:none;stroke:#cbcbcb;\"/>\n     </g>\n     <g id=\"line2d_22\"/>\n     <g id=\"text_11\">\n      <!-- 2021-05-20 -->\n      <g transform=\"translate(314.364964 325.341875)rotate(-90)scale(0.14 -0.14)\">\n       <use xlink:href=\"#DejaVuSans-32\"/>\n       <use x=\"63.623047\" xlink:href=\"#DejaVuSans-30\"/>\n       <use x=\"127.246094\" xlink:href=\"#DejaVuSans-32\"/>\n       <use x=\"190.869141\" xlink:href=\"#DejaVuSans-31\"/>\n       <use x=\"254.492188\" xlink:href=\"#DejaVuSans-2d\"/>\n       <use x=\"290.576172\" xlink:href=\"#DejaVuSans-30\"/>\n       <use x=\"354.199219\" xlink:href=\"#DejaVuSans-35\"/>\n       <use x=\"417.822266\" xlink:href=\"#DejaVuSans-2d\"/>\n       <use x=\"453.90625\" xlink:href=\"#DejaVuSans-32\"/>\n       <use x=\"517.529297\" xlink:href=\"#DejaVuSans-30\"/>\n      </g>\n     </g>\n    </g>\n    <g id=\"xtick_12\">\n     <g id=\"line2d_23\">\n      <path clip-path=\"url(#pd16134bec8)\" d=\"M 336.386136 240.48 \nL 336.386136 7.2 \n\" style=\"fill:none;stroke:#cbcbcb;\"/>\n     </g>\n     <g id=\"line2d_24\"/>\n     <g id=\"text_12\">\n      <!-- 2021-05-21 -->\n      <g transform=\"translate(340.249261 325.341875)rotate(-90)scale(0.14 -0.14)\">\n       <use xlink:href=\"#DejaVuSans-32\"/>\n       <use x=\"63.623047\" xlink:href=\"#DejaVuSans-30\"/>\n       <use x=\"127.246094\" xlink:href=\"#DejaVuSans-32\"/>\n       <use x=\"190.869141\" xlink:href=\"#DejaVuSans-31\"/>\n       <use x=\"254.492188\" xlink:href=\"#DejaVuSans-2d\"/>\n       <use x=\"290.576172\" xlink:href=\"#DejaVuSans-30\"/>\n       <use x=\"354.199219\" xlink:href=\"#DejaVuSans-35\"/>\n       <use x=\"417.822266\" xlink:href=\"#DejaVuSans-2d\"/>\n       <use x=\"453.90625\" xlink:href=\"#DejaVuSans-32\"/>\n       <use x=\"517.529297\" xlink:href=\"#DejaVuSans-31\"/>\n      </g>\n     </g>\n    </g>\n   </g>\n   <g id=\"matplotlib.axis_2\">\n    <g id=\"ytick_1\">\n     <g id=\"line2d_25\">\n      <path clip-path=\"url(#pd16134bec8)\" d=\"M 37.4225 231.290182 \nL 350.6225 231.290182 \n\" style=\"fill:none;stroke:#cbcbcb;\"/>\n     </g>\n     <g id=\"line2d_26\"/>\n     <g id=\"text_13\">\n      <!-- 0 -->\n      <g transform=\"translate(25.015 236.609088)scale(0.14 -0.14)\">\n       <use xlink:href=\"#DejaVuSans-30\"/>\n      </g>\n     </g>\n    </g>\n    <g id=\"ytick_2\">\n     <g id=\"line2d_27\">\n      <path clip-path=\"url(#pd16134bec8)\" d=\"M 37.4225 195.944727 \nL 350.6225 195.944727 \n\" style=\"fill:none;stroke:#cbcbcb;\"/>\n     </g>\n     <g id=\"line2d_28\"/>\n     <g id=\"text_14\">\n      <!-- 25 -->\n      <g transform=\"translate(16.1075 201.263634)scale(0.14 -0.14)\">\n       <use xlink:href=\"#DejaVuSans-32\"/>\n       <use x=\"63.623047\" xlink:href=\"#DejaVuSans-35\"/>\n      </g>\n     </g>\n    </g>\n    <g id=\"ytick_3\">\n     <g id=\"line2d_29\">\n      <path clip-path=\"url(#pd16134bec8)\" d=\"M 37.4225 160.599273 \nL 350.6225 160.599273 \n\" style=\"fill:none;stroke:#cbcbcb;\"/>\n     </g>\n     <g id=\"line2d_30\"/>\n     <g id=\"text_15\">\n      <!-- 50 -->\n      <g transform=\"translate(16.1075 165.918179)scale(0.14 -0.14)\">\n       <use xlink:href=\"#DejaVuSans-35\"/>\n       <use x=\"63.623047\" xlink:href=\"#DejaVuSans-30\"/>\n      </g>\n     </g>\n    </g>\n    <g id=\"ytick_4\">\n     <g id=\"line2d_31\">\n      <path clip-path=\"url(#pd16134bec8)\" d=\"M 37.4225 125.253818 \nL 350.6225 125.253818 \n\" style=\"fill:none;stroke:#cbcbcb;\"/>\n     </g>\n     <g id=\"line2d_32\"/>\n     <g id=\"text_16\">\n      <!-- 75 -->\n      <g transform=\"translate(16.1075 130.572724)scale(0.14 -0.14)\">\n       <defs>\n        <path d=\"M 525 4666 \nL 3525 4666 \nL 3525 4397 \nL 1831 0 \nL 1172 0 \nL 2766 4134 \nL 525 4134 \nL 525 4666 \nz\n\" id=\"DejaVuSans-37\" transform=\"scale(0.015625)\"/>\n       </defs>\n       <use xlink:href=\"#DejaVuSans-37\"/>\n       <use x=\"63.623047\" xlink:href=\"#DejaVuSans-35\"/>\n      </g>\n     </g>\n    </g>\n    <g id=\"ytick_5\">\n     <g id=\"line2d_33\">\n      <path clip-path=\"url(#pd16134bec8)\" d=\"M 37.4225 89.908364 \nL 350.6225 89.908364 \n\" style=\"fill:none;stroke:#cbcbcb;\"/>\n     </g>\n     <g id=\"line2d_34\"/>\n     <g id=\"text_17\">\n      <!-- 100 -->\n      <g transform=\"translate(7.2 95.22727)scale(0.14 -0.14)\">\n       <use xlink:href=\"#DejaVuSans-31\"/>\n       <use x=\"63.623047\" xlink:href=\"#DejaVuSans-30\"/>\n       <use x=\"127.246094\" xlink:href=\"#DejaVuSans-30\"/>\n      </g>\n     </g>\n    </g>\n    <g id=\"ytick_6\">\n     <g id=\"line2d_35\">\n      <path clip-path=\"url(#pd16134bec8)\" d=\"M 37.4225 54.562909 \nL 350.6225 54.562909 \n\" style=\"fill:none;stroke:#cbcbcb;\"/>\n     </g>\n     <g id=\"line2d_36\"/>\n     <g id=\"text_18\">\n      <!-- 125 -->\n      <g transform=\"translate(7.2 59.881815)scale(0.14 -0.14)\">\n       <use xlink:href=\"#DejaVuSans-31\"/>\n       <use x=\"63.623047\" xlink:href=\"#DejaVuSans-32\"/>\n       <use x=\"127.246094\" xlink:href=\"#DejaVuSans-35\"/>\n      </g>\n     </g>\n    </g>\n    <g id=\"ytick_7\">\n     <g id=\"line2d_37\">\n      <path clip-path=\"url(#pd16134bec8)\" d=\"M 37.4225 19.217455 \nL 350.6225 19.217455 \n\" style=\"fill:none;stroke:#cbcbcb;\"/>\n     </g>\n     <g id=\"line2d_38\"/>\n     <g id=\"text_19\">\n      <!-- 150 -->\n      <g transform=\"translate(7.2 24.536361)scale(0.14 -0.14)\">\n       <use xlink:href=\"#DejaVuSans-31\"/>\n       <use x=\"63.623047\" xlink:href=\"#DejaVuSans-35\"/>\n       <use x=\"127.246094\" xlink:href=\"#DejaVuSans-30\"/>\n      </g>\n     </g>\n    </g>\n   </g>\n   <g id=\"PathCollection_1\">\n    <defs>\n     <path d=\"M 0 -3 \nL -0.673542 -0.927051 \nL -2.85317 -0.927051 \nL -1.089814 0.354102 \nL -1.763356 2.427051 \nL -0 1.145898 \nL 1.763356 2.427051 \nL 1.089814 0.354102 \nL 2.85317 -0.927051 \nL 0.673542 -0.927051 \nz\n\" id=\"m1062e08d1f\" style=\"stroke:#ff0000;stroke-width:0.5;\"/>\n    </defs>\n    <g clip-path=\"url(#pd16134bec8)\">\n     <use style=\"fill:#ff0000;stroke:#ff0000;stroke-width:0.5;\" x=\"51.658864\" xlink:href=\"#m1062e08d1f\" y=\"135.150545\"/>\n     <use style=\"fill:#ff0000;stroke:#ff0000;stroke-width:0.5;\" x=\"77.543161\" xlink:href=\"#m1062e08d1f\" y=\"224.221091\"/>\n     <use style=\"fill:#ff0000;stroke:#ff0000;stroke-width:0.5;\" x=\"103.427459\" xlink:href=\"#m1062e08d1f\" y=\"221.393455\"/>\n     <use style=\"fill:#ff0000;stroke:#ff0000;stroke-width:0.5;\" x=\"129.311756\" xlink:href=\"#m1062e08d1f\" y=\"224.221091\"/>\n     <use style=\"fill:#ff0000;stroke:#ff0000;stroke-width:0.5;\" x=\"155.196054\" xlink:href=\"#m1062e08d1f\" y=\"184.634182\"/>\n     <use style=\"fill:#ff0000;stroke:#ff0000;stroke-width:0.5;\" x=\"181.080351\" xlink:href=\"#m1062e08d1f\" y=\"17.803636\"/>\n     <use style=\"fill:#ff0000;stroke:#ff0000;stroke-width:0.5;\" x=\"206.964649\" xlink:href=\"#m1062e08d1f\" y=\"229.876364\"/>\n     <use style=\"fill:#ff0000;stroke:#ff0000;stroke-width:0.5;\" x=\"232.848946\" xlink:href=\"#m1062e08d1f\" y=\"171.909818\"/>\n     <use style=\"fill:#ff0000;stroke:#ff0000;stroke-width:0.5;\" x=\"258.733244\" xlink:href=\"#m1062e08d1f\" y=\"65.873455\"/>\n     <use style=\"fill:#ff0000;stroke:#ff0000;stroke-width:0.5;\" x=\"284.617541\" xlink:href=\"#m1062e08d1f\" y=\"221.393455\"/>\n     <use style=\"fill:#ff0000;stroke:#ff0000;stroke-width:0.5;\" x=\"310.501839\" xlink:href=\"#m1062e08d1f\" y=\"166.254545\"/>\n     <use style=\"fill:#ff0000;stroke:#ff0000;stroke-width:0.5;\" x=\"336.386136\" xlink:href=\"#m1062e08d1f\" y=\"54.562909\"/>\n    </g>\n   </g>\n   <g id=\"line2d_39\">\n    <path clip-path=\"url(#pd16134bec8)\" d=\"M 51.658864 135.150545 \nL 77.543161 224.221091 \nL 103.427459 221.393455 \nL 129.311756 224.221091 \nL 155.196054 184.634182 \nL 181.080351 17.803636 \nL 206.964649 229.876364 \nL 232.848946 171.909818 \nL 258.733244 65.873455 \nL 284.617541 221.393455 \nL 310.501839 166.254545 \nL 336.386136 54.562909 \n\" style=\"fill:none;stroke:#4682b4;stroke-opacity:0.8;stroke-width:2.5;\"/>\n   </g>\n   <g id=\"patch_3\">\n    <path d=\"M 37.4225 240.48 \nL 37.4225 7.2 \n\" style=\"fill:none;stroke:#f0f0f0;stroke-linecap:square;stroke-linejoin:miter;stroke-width:3;\"/>\n   </g>\n   <g id=\"patch_4\">\n    <path d=\"M 350.6225 240.48 \nL 350.6225 7.2 \n\" style=\"fill:none;stroke:#f0f0f0;stroke-linecap:square;stroke-linejoin:miter;stroke-width:3;\"/>\n   </g>\n   <g id=\"patch_5\">\n    <path d=\"M 37.4225 240.48 \nL 350.6225 240.48 \n\" style=\"fill:none;stroke:#f0f0f0;stroke-linecap:square;stroke-linejoin:miter;stroke-width:3;\"/>\n   </g>\n   <g id=\"patch_6\">\n    <path d=\"M 37.4225 7.2 \nL 350.6225 7.2 \n\" style=\"fill:none;stroke:#f0f0f0;stroke-linecap:square;stroke-linejoin:miter;stroke-width:3;\"/>\n   </g>\n  </g>\n </g>\n <defs>\n  <clipPath id=\"pd16134bec8\">\n   <rect height=\"233.28\" width=\"313.2\" x=\"37.4225\" y=\"7.2\"/>\n  </clipPath>\n </defs>\n</svg>\n",
      "image/png": "[encoded data removed]"
     },
     "metadata": {}
    }
   ],
   "source": [
    "import warnings\n",
    "warnings.filterwarnings('ignore')\n",
    "final_data\n",
    "plt.figure(dpi = 100, figsize = (5,4))\n",
    "plt.plot(final_data['date'], final_data['interaction'],  color = 'steelblue', alpha =0.8, lw = 2.5 );\n",
    "plt.scatter(final_data['date'], final_data['interaction'],color = 'red', marker = '*');\n",
    "\n",
    "plt.xticks(final_data['date'], rotation = 90);\n"
   ]
  },
  {
   "cell_type": "code",
   "execution_count": 8,
   "metadata": {},
   "outputs": [],
   "source": [
    "from pymoo.factory import get_problem\n",
    "import numpy as np\n",
    "\n",
    "p_1 = get_problem(\"dtlz1_-1\", n_var=20, n_obj=5)\n",
    "\n",
    "# create a simple test problem from string\n",
    "p_2 = get_problem(\"Ackley\")\n",
    "\n",
    "# the input name is not case sensitive\n",
    "p_3 = get_problem(\"ackley\")\n",
    "\n",
    "# also input parameter can be provided directly\n",
    "p_4 = get_problem(\"dtlz1_-1\", n_var=20, n_obj=5)\n",
    "\n",
    "result_p4 = p_4.evaluate(np.random.randint(-8,3,10000).reshape(-1,20), return_as_dictionary=True)\n"
   ]
  },
  {
   "cell_type": "code",
   "execution_count": 22,
   "metadata": {},
   "outputs": [
    {
     "output_type": "execute_result",
     "data": {
      "text/plain": [
       "array([[7, 3],\n",
       "       [1, 8],\n",
       "       [5, 2],\n",
       "       [6, 1],\n",
       "       [5, 5]])"
      ]
     },
     "metadata": {},
     "execution_count": 22
    }
   ],
   "source": [
    "x = np.random.randint(0,10,10).reshape(-1,2)\n",
    "x"
   ]
  },
  {
   "cell_type": "code",
   "execution_count": 26,
   "metadata": {},
   "outputs": [
    {
     "output_type": "execute_result",
     "data": {
      "text/plain": [
       "array([2, 1])"
      ]
     },
     "metadata": {},
     "execution_count": 26
    }
   ],
   "source": []
  },
  {
   "cell_type": "code",
   "execution_count": 1,
   "metadata": {},
   "outputs": [],
   "source": [
    "import numpy as np \n"
   ]
  },
  {
   "cell_type": "code",
   "execution_count": 14,
   "metadata": {},
   "outputs": [
    {
     "output_type": "execute_result",
     "data": {
      "text/plain": [
       "array([0.4382745])"
      ]
     },
     "metadata": {},
     "execution_count": 14
    }
   ],
   "source": [
    "a = np.random.random(1)\n",
    "b = 1-a\n",
    "weight = np.concatenate([a,b])\n"
   ]
  },
  {
   "cell_type": "code",
   "execution_count": 21,
   "metadata": {},
   "outputs": [
    {
     "output_type": "execute_result",
     "data": {
      "text/plain": [
       "array([0.5617255])"
      ]
     },
     "metadata": {},
     "execution_count": 21
    }
   ],
   "source": [
    "b = 1-a\n",
    "b"
   ]
  },
  {
   "cell_type": "code",
   "execution_count": 28,
   "metadata": {},
   "outputs": [
    {
     "output_type": "execute_result",
     "data": {
      "text/plain": [
       "array([0.8615158, 0.1384842])"
      ]
     },
     "metadata": {},
     "execution_count": 28
    }
   ],
   "source": [
    "def generate_weight():\n",
    "    a = np.random.random(1)\n",
    "    b = 1-a\n",
    "    weight = np.concatenate([a,b])\n",
    "    return weight\n",
    "generate_weight()\n"
   ]
  },
  {
   "cell_type": "code",
   "execution_count": 33,
   "metadata": {},
   "outputs": [
    {
     "output_type": "stream",
     "name": "stdout",
     "text": [
      "[0.62117553 0.37882447]\n[0.82477301 0.17522699]\n[0.86228273 0.13771727]\n[0.44196097 0.55803903]\n[0.09238688 0.90761312]\n[0.15521729 0.84478271]\n[0.92967714 0.07032286]\n[0.53880984 0.46119016]\n[0.42307917 0.57692083]\n[0.495866 0.504134]\n"
     ]
    }
   ],
   "source": [
    "weight_list = [generate_weight() for i in range(10)]\n",
    "weight_list\n",
    "for i in weight_list:\n",
    "    print(str(i))"
   ]
  },
  {
   "cell_type": "code",
   "execution_count": 9,
   "metadata": {},
   "outputs": [
    {
     "output_type": "execute_result",
     "data": {
      "text/plain": [
       "array([[-273.84271673,   75.81677091],\n",
       "       [-273.34063636,   75.21717456],\n",
       "       [-272.64292631,   74.33848317],\n",
       "       [-272.23927843,   73.88323889],\n",
       "       [-271.72047246,   73.29128082],\n",
       "       [-271.24512473,   72.59187768],\n",
       "       [-270.82116693,   72.09805569],\n",
       "       [-270.21485189,   71.36161939],\n",
       "       [-269.70433999,   70.70276472],\n",
       "       [-269.20454698,   69.97566324],\n",
       "       [-268.63240016,   69.34816161],\n",
       "       [-268.0057411 ,   68.6136398 ],\n",
       "       [-267.60934587,   67.91373952],\n",
       "       [-267.22375744,   67.351459  ],\n",
       "       [-266.15300701,   66.23089067],\n",
       "       [-265.53954651,   65.15507757],\n",
       "       [-265.1120736 ,   64.78029481],\n",
       "       [-264.84262247,   64.19882623],\n",
       "       [-264.24271234,   63.45774558],\n",
       "       [-263.52510963,   62.32854996],\n",
       "       [-263.23966778,   61.8779138 ],\n",
       "       [-262.6035878 ,   60.94435024],\n",
       "       [-261.77993922,   59.74441934],\n",
       "       [-261.05147539,   58.97338503],\n",
       "       [-260.50287995,   57.9640802 ],\n",
       "       [-260.09204109,   57.04223866],\n",
       "       [-259.51959087,   56.47545399],\n",
       "       [-259.16214723,   55.41377126],\n",
       "       [-258.54963418,   54.2718771 ],\n",
       "       [-258.01660774,   52.77257588],\n",
       "       [-257.72011456,   51.76133885],\n",
       "       [-257.21447462,   51.23172519],\n",
       "       [-256.52441312,   50.38069041],\n",
       "       [-256.00596188,   49.53542113],\n",
       "       [-255.63494148,   49.13652123],\n",
       "       [-255.02740171,   48.36960439],\n",
       "       [-254.53571201,   47.77241417],\n",
       "       [-254.14354001,   47.15669713],\n",
       "       [-253.69261283,   46.66452132],\n",
       "       [-253.14869049,   45.89457959],\n",
       "       [-252.66234595,   45.27716759],\n",
       "       [-252.03053771,   44.48868959],\n",
       "       [-251.54231823,   43.76494932],\n",
       "       [-251.13433972,   43.22413981],\n",
       "       [-250.72252986,   42.75550244],\n",
       "       [-250.27102486,   42.07358785],\n",
       "       [-249.65419064,   41.35652167],\n",
       "       [-249.20785142,   40.68256007],\n",
       "       [-248.72026046,   39.96293913],\n",
       "       [-248.17293978,   39.29224478],\n",
       "       [-247.84368655,   38.72855894],\n",
       "       [-247.07868124,   37.63424322],\n",
       "       [-246.67323824,   37.11350296],\n",
       "       [-246.19815846,   36.46502382],\n",
       "       [-245.55149407,   35.37230686],\n",
       "       [-245.12701371,   34.77247893],\n",
       "       [-244.51393374,   33.73895749],\n",
       "       [-244.1424767 ,   33.17915208],\n",
       "       [-243.52813689,   32.13779905],\n",
       "       [-243.26175301,   31.57359661],\n",
       "       [-242.55208702,   30.16235339],\n",
       "       [-242.00603476,   28.44151307],\n",
       "       [-241.95803864,   27.99772225],\n",
       "       [-234.82577925,   27.4935079 ],\n",
       "       [-227.75960946,   26.97769132],\n",
       "       [-220.87963084,   26.48324013],\n",
       "       [-213.85462199,   25.97963321],\n",
       "       [-207.04515245,   25.49175477],\n",
       "       [-200.10456537,   24.95303857],\n",
       "       [-193.93343584,   24.49609006],\n",
       "       [-186.60508612,   23.96251784],\n",
       "       [-180.32228336,   23.46392787],\n",
       "       [-173.8303595 ,   22.97231792],\n",
       "       [-167.67833397,   22.49904833],\n",
       "       [-161.24859771,   21.99218202],\n",
       "       [-154.96589546,   21.49822403],\n",
       "       [-148.67363287,   20.99470328],\n",
       "       [-142.20659521,   20.47654531],\n",
       "       [-136.22704468,   19.99367103],\n",
       "       [-129.86819698,   19.46304922],\n",
       "       [-124.20044382,   18.99566554],\n",
       "       [-122.55018112,   17.72630267],\n",
       "       [-122.10118623,   17.05649592],\n",
       "       [-121.64725327,   16.41860921],\n",
       "       [-121.12733299,   15.66980007],\n",
       "       [-120.73941548,   15.10867369],\n",
       "       [-120.05240603,   14.11541825],\n",
       "       [-119.76771151,   13.68694711],\n",
       "       [-119.23507446,   12.85207588],\n",
       "       [-118.82067097,   12.2573855 ],\n",
       "       [-118.00495764,   10.92519265],\n",
       "       [-117.63817858,   10.22206442],\n",
       "       [-117.10060324,    9.22005296],\n",
       "       [-116.60622982,    8.18600847],\n",
       "       [-116.03493857,    6.46186841],\n",
       "       [-115.48917764,    5.98626952],\n",
       "       [-102.25041793,    5.48573472],\n",
       "       [ -88.53096342,    4.99069924],\n",
       "       [ -71.5030298 ,    4.47409994]])"
      ]
     },
     "metadata": {},
     "execution_count": 9
    }
   ],
   "source": [
    "from pymoo.factory import get_problem\n",
    "\n",
    "p =get_problem('OSY')\n",
    "p.pareto_front()"
   ]
  },
  {
   "cell_type": "code",
   "execution_count": 2,
   "metadata": {},
   "outputs": [
    {
     "output_type": "stream",
     "text": [
      "\u001b[0;31mInit signature:\u001b[0m\n",
      "\u001b[0mRNSGA2\u001b[0m\u001b[0;34m(\u001b[0m\u001b[0;34m\u001b[0m\n",
      "\u001b[0;34m\u001b[0m    \u001b[0mref_points\u001b[0m\u001b[0;34m,\u001b[0m\u001b[0;34m\u001b[0m\n",
      "\u001b[0;34m\u001b[0m    \u001b[0mepsilon\u001b[0m\u001b[0;34m=\u001b[0m\u001b[0;36m0.001\u001b[0m\u001b[0;34m,\u001b[0m\u001b[0;34m\u001b[0m\n",
      "\u001b[0;34m\u001b[0m    \u001b[0mnormalization\u001b[0m\u001b[0;34m=\u001b[0m\u001b[0;34m'front'\u001b[0m\u001b[0;34m,\u001b[0m\u001b[0;34m\u001b[0m\n",
      "\u001b[0;34m\u001b[0m    \u001b[0mweights\u001b[0m\u001b[0;34m=\u001b[0m\u001b[0;32mNone\u001b[0m\u001b[0;34m,\u001b[0m\u001b[0;34m\u001b[0m\n",
      "\u001b[0;34m\u001b[0m    \u001b[0mextreme_points_as_reference_points\u001b[0m\u001b[0;34m=\u001b[0m\u001b[0;32mFalse\u001b[0m\u001b[0;34m,\u001b[0m\u001b[0;34m\u001b[0m\n",
      "\u001b[0;34m\u001b[0m    \u001b[0;34m**\u001b[0m\u001b[0mkwargs\u001b[0m\u001b[0;34m,\u001b[0m\u001b[0;34m\u001b[0m\n",
      "\u001b[0;34m\u001b[0m\u001b[0;34m)\u001b[0m\u001b[0;34m\u001b[0m\u001b[0;34m\u001b[0m\u001b[0m\n",
      "\u001b[0;31mDocstring:\u001b[0m     \n",
      "This class represents the abstract class for any algorithm to be implemented. Most importantly it\n",
      "provides the solve method that is used to optimize a given problem.\n",
      "\n",
      "The solve method provides a wrapper function which does validate the input.\n",
      "\n",
      "\n",
      "Parameters\n",
      "----------\n",
      "\n",
      "problem : :class:`~pymoo.model.problem.Problem`\n",
      "    Problem to be solved by the algorithm\n",
      "\n",
      "termination: :class:`~pymoo.model.termination.Termination`\n",
      "    Object that tells the algorithm when to terminate.\n",
      "\n",
      "seed : int\n",
      "    Random seed to be used. Same seed is supposed to return the same result. If set to None, a random seed\n",
      "    is chosen randomly and stored in the result object to ensure reproducibility.\n",
      "\n",
      "verbose : bool\n",
      "    If true information during the algorithm execution are displayed\n",
      "\n",
      "callback : func\n",
      "    A callback function can be passed that is executed every generation. The parameters for the function\n",
      "    are the algorithm itself, the number of evaluations so far and the current population.\n",
      "\n",
      "        def callback(algorithm):\n",
      "            pass\n",
      "\n",
      "save_history : bool\n",
      "    If true, a current snapshot of each generation is saved.\n",
      "\n",
      "pf : numpy.array\n",
      "    The Pareto-front for the given problem. If provided performance metrics are printed during execution.\n",
      "\n",
      "return_least_infeasible : bool\n",
      "    Whether the algorithm should return the least infeasible solution, if no solution was found.\n",
      "\n",
      "evaluator : :class:`~pymoo.model.evaluator.Evaluator`\n",
      "    The evaluator which can be used to make modifications before calling the evaluate function of a problem.\n",
      "\u001b[0;31mInit docstring:\u001b[0m\n",
      "Parameters\n",
      "----------\n",
      "\n",
      "ref_points : {ref_points}\n",
      "epsilon : float\n",
      "weights : np.array\n",
      "normalization : {{'no', 'front', 'ever'}}\n",
      "extreme_points_as_reference_points : bool\n",
      "\u001b[0;31mFile:\u001b[0m           ~/opt/miniconda3/envs/gleb_project/lib/python3.8/site-packages/pymoo/algorithms/rnsga2.py\n",
      "\u001b[0;31mType:\u001b[0m           type\n",
      "\u001b[0;31mSubclasses:\u001b[0m     \n"
     ],
     "name": "stdout"
    }
   ],
   "source": [
    "from pymoo.algorithms.rnsga2 import RNSGA2\n",
    "?RNSGA2"
   ]
  },
  {
   "cell_type": "code",
   "execution_count": 1,
   "metadata": {},
   "outputs": [
    {
     "output_type": "execute_result",
     "data": {
      "text/plain": [
       "{'1000': 0.43380512597119464,\n",
       " '200': 0.43346362703050834,\n",
       " '100': 0.4230938528458062,\n",
       " '500': 0.4195672339687046,\n",
       " '10': 0.4066756614383871,\n",
       " '300': 0.3820266547147527,\n",
       " '20': 0.37742743354693753,\n",
       " '80': 0.37551000444601235,\n",
       " '900': 0.3725324445205023,\n",
       " '800': 0.33268769693576317}"
      ]
     },
     "metadata": {},
     "execution_count": 1
    }
   ],
   "source": [
    "a = {'1000': 0.43380512597119464, '200': 0.43346362703050834, '100': 0.4230938528458062, '500': 0.4195672339687046, '10': 0.4066756614383871, '300': 0.3820266547147527, '20': 0.37742743354693753, '80': 0.37551000444601235, '900': 0.3725324445205023, '800': 0.33268769693576317}\n",
    "a"
   ]
  },
  {
   "cell_type": "code",
   "execution_count": 4,
   "metadata": {},
   "outputs": [
    {
     "output_type": "execute_result",
     "data": {
      "text/plain": [
       "{'800': 0.33268769693576317,\n",
       " '900': 0.3725324445205023,\n",
       " '80': 0.37551000444601235,\n",
       " '20': 0.37742743354693753,\n",
       " '300': 0.3820266547147527,\n",
       " '10': 0.4066756614383871,\n",
       " '500': 0.4195672339687046,\n",
       " '100': 0.4230938528458062,\n",
       " '200': 0.43346362703050834,\n",
       " '1000': 0.43380512597119464}"
      ]
     },
     "metadata": {},
     "execution_count": 4
    }
   ],
   "source": [
    "dict( sorted(a.items(),\n",
    "                           key=lambda item: item[1],\n",
    "                           reverse=False))"
   ]
  },
  {
   "cell_type": "code",
   "execution_count": null,
   "metadata": {},
   "outputs": [],
   "source": []
  }
 ]
}