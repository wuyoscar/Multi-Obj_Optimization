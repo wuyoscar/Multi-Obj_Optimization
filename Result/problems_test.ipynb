{
 "cells": [
  {
   "cell_type": "code",
   "execution_count": 1,
   "metadata": {},
   "outputs": [],
   "source": [
    "import os, sys \n",
    "import pymoo \n",
    "import numpy as np \n",
    "from matplotlib import pyplot as plt \n",
    "from pymoo.factory import get_problem"
   ]
  },
  {
   "cell_type": "code",
   "execution_count": 8,
   "metadata": {},
   "outputs": [],
   "source": [
    "#from problems import kur1\n",
    "from pymoo.core.problem import Problem\n",
    "class Kur1(Problem):\n",
    "    def __init__(self, n_var=None, xl=None, xu = None,**kwargs):\n",
    "        super().__init__(n_obj=2, n_constr=0,**kwargs)\n",
    "    #define bound here\n",
    "        self.xl= np.ones(n_var)*xl\n",
    "        self.xu = np.ones(n_var)*xu\n",
    "        self.n_var = n_var\n",
    "\n",
    "        assert self.xl is not None, \"Provide Search Domain\"\n",
    "        assert len(self.xu) == self.n_var\n",
    "        \n",
    "    def _evaluate(self,x, out, *args, **kwargs):\n",
    "        #from i=1 to n-1\n",
    "        #here, i would like to use vectorization to save cost\n",
    "        power = np.column_stack([(-0.2)*np.sqrt(np.power(x[:,i],2)+np.power(x[:,i+1],2)) for i in range(self.n_var-1)])\n",
    "        f1 = np.sum(-10*np.exp(power),axis=1)\n",
    "        f2 = np.sum(np.power(abs(x),0.8) +5*np.sin(np.power(x,3)),axis=1)\n",
    "        #exporting objective value     \n",
    "        out['F'] = np.column_stack([f1,f2])"
   ]
  },
  {
   "cell_type": "code",
   "execution_count": 56,
   "metadata": {},
   "outputs": [
    {
     "data": {
      "text/plain": [
       "array([ -6.8745863 ,  -7.02409723,  -8.24604471, -10.77447327,\n",
       "       -10.69217181,  -7.85355932,  -9.46743939,  -9.24679734,\n",
       "        -7.13699043, -12.38411083])"
      ]
     },
     "execution_count": 56,
     "metadata": {},
     "output_type": "execute_result"
    }
   ],
   "source": [
    "x = data_points\n",
    "\n",
    "power = np.column_stack([(-0.2)*np.sqrt(np.power(x[:,i],2)+np.power(x[:,i+1],2)) for i in range(3-1)])\n",
    "f1 = np.sum(-10*np.exp(power),axis=1)\n",
    "f1"
   ]
  },
  {
   "cell_type": "code",
   "execution_count": null,
   "metadata": {},
   "outputs": [],
   "source": []
  },
  {
   "cell_type": "code",
   "execution_count": 9,
   "metadata": {},
   "outputs": [],
   "source": [
    "kur1 = Kur1(n_var=3,xl=[-5,-5,-5],xu= [5,5,5])\n",
    "kursawe = get_problem('kursawe')"
   ]
  },
  {
   "cell_type": "code",
   "execution_count": 10,
   "metadata": {},
   "outputs": [
    {
     "name": "stdout",
     "output_type": "stream",
     "text": [
      "[-5. -5. -5.] [-5. -5. -5.]\n",
      "[5. 5. 5.] [5. 5. 5.]\n",
      "# name: Kur1\n",
      "# n_var: 3\n",
      "# n_obj: 2\n",
      "# n_constr: 0\n",
      "\n",
      "# name: Kursawe\n",
      "# n_var: 3\n",
      "# n_obj: 2\n",
      "# n_constr: 0\n",
      "\n"
     ]
    }
   ],
   "source": [
    "print(kursawe.xl,kur1.xl)\n",
    "print(kursawe.xu,kur1.xu)\n",
    "print(kur1)\n",
    "print(kursawe)"
   ]
  },
  {
   "cell_type": "code",
   "execution_count": 5,
   "metadata": {},
   "outputs": [],
   "source": [
    "data_points = np.random.uniform(-5,5,30).reshape(-1,3)"
   ]
  },
  {
   "cell_type": "code",
   "execution_count": 11,
   "metadata": {},
   "outputs": [
    {
     "data": {
      "text/plain": [
       "array([[ -7.44382543,   9.49846433],\n",
       "       [-11.43435809,   7.36316562],\n",
       "       [ -7.40052242,   7.76038443],\n",
       "       [ -7.98628655,  11.21926618],\n",
       "       [-10.02128521,   6.06669832],\n",
       "       [ -9.55613918,   2.74445112],\n",
       "       [ -6.15724462,  17.96037679],\n",
       "       [ -6.60092627,  11.42265262],\n",
       "       [ -7.9519767 ,  11.36268265],\n",
       "       [-14.30448606,  13.48191273]])"
      ]
     },
     "execution_count": 11,
     "metadata": {},
     "output_type": "execute_result"
    }
   ],
   "source": [
    "kur1.evaluate(data_points,return_values_of=['F'])"
   ]
  },
  {
   "cell_type": "code",
   "execution_count": 12,
   "metadata": {},
   "outputs": [
    {
     "data": {
      "text/plain": [
       "array([[ -7.44382543,   9.49846433],\n",
       "       [-11.43435809,   7.36316562],\n",
       "       [ -7.40052242,   7.76038443],\n",
       "       [ -7.98628655,  11.21926618],\n",
       "       [-10.02128521,   6.06669832],\n",
       "       [ -9.55613918,   2.74445112],\n",
       "       [ -6.15724462,  17.96037679],\n",
       "       [ -6.60092627,  11.42265262],\n",
       "       [ -7.9519767 ,  11.36268265],\n",
       "       [-14.30448606,  13.48191273]])"
      ]
     },
     "execution_count": 12,
     "metadata": {},
     "output_type": "execute_result"
    }
   ],
   "source": [
    "kursawe.evaluate(data_points,return_values_of=['F'])"
   ]
  },
  {
   "cell_type": "code",
   "execution_count": null,
   "metadata": {},
   "outputs": [],
   "source": []
  }
 ],
 "metadata": {
  "interpreter": {
   "hash": "3b1e26b54b7d4f95427048740156c888929025ee39b830998746c549296318b0"
  },
  "kernelspec": {
   "display_name": "Python 3.8.6 64-bit ('gleb': conda)",
   "name": "python3"
  },
  "language_info": {
   "codemirror_mode": {
    "name": "ipython",
    "version": 3
   },
   "file_extension": ".py",
   "mimetype": "text/x-python",
   "name": "python",
   "nbconvert_exporter": "python",
   "pygments_lexer": "ipython3",
   "version": "3.8.6"
  },
  "orig_nbformat": 4
 },
 "nbformat": 4,
 "nbformat_minor": 2
}
