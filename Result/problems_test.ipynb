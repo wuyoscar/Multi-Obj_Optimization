{
 "cells": [
  {
   "cell_type": "code",
   "execution_count": 1,
   "metadata": {},
   "outputs": [],
   "source": [
    "import os, sys \n",
    "import pymoo \n",
    "import numpy as np \n",
    "from matplotlib import pyplot as plt \n",
    "from pymoo.factory import get_problem\n",
    "sys.path.append('/Users/wuyoscar/Documents/Project/MOOP')"
   ]
  },
  {
   "cell_type": "code",
   "execution_count": 2,
   "metadata": {},
   "outputs": [],
   "source": [
    "from problems import kur1\n",
    "from pymoo.core.problem import Problem\n"
   ]
  },
  {
   "cell_type": "code",
   "execution_count": 13,
   "metadata": {},
   "outputs": [],
   "source": [
    "from pymoo.core.problem import Problem\n",
    "import numpy as np \n",
    "class Kur1(Problem):\n",
    "    def __init__(self,n_var= None,**kwargs):\n",
    "        super().__init__(n_obj=2, n_var=n_var, xl=-5.05, xu = 5,type_var= np.double, n_constr=0,**kwargs)\n",
    "\n",
    "        \n",
    "    def _evaluate(self,x, out, *args, **kwargs):\n",
    "        #for i in range self.var-1\n",
    "        power = np.column_stack([(-0.2)*np.sqrt(np.power(x[:,i],2)+np.power(x[:,i+1],2)) for i in range(self.n_var-1)])\n",
    "        f1 = np.sum(-10*np.exp(power),axis=1)\n",
    "        f2 = np.sum(np.power(abs(x),0.8) +5*np.sin(np.power(x,3)),axis=1)\n",
    "        #exporting objective value     \n",
    "        out['F'] = np.column_stack([f1,f2])\n",
    "kur1 = Kur1(n_var=5)\n",
    "kursawe = get_problem('kursawe')"
   ]
  },
  {
   "cell_type": "code",
   "execution_count": 14,
   "metadata": {},
   "outputs": [
    {
     "name": "stdout",
     "output_type": "stream",
     "text": [
      "[-5. -5. -5.] [-5.05 -5.05 -5.05 -5.05 -5.05]\n",
      "[5. 5. 5.] [5. 5. 5. 5. 5.]\n",
      "# name: Kur1\n",
      "# n_var: 5\n",
      "# n_obj: 2\n",
      "# n_constr: 0\n",
      "\n",
      "# name: Kursawe\n",
      "# n_var: 3\n",
      "# n_obj: 2\n",
      "# n_constr: 0\n",
      "\n"
     ]
    }
   ],
   "source": [
    "print(kursawe.xl,kur1.xl)\n",
    "print(kursawe.xu,kur1.xu)\n",
    "print(kur1)\n",
    "print(kursawe)"
   ]
  },
  {
   "cell_type": "code",
   "execution_count": 5,
   "metadata": {},
   "outputs": [],
   "source": [
    "data_points = np.random.uniform(-5,5,30).reshape(-1,3)"
   ]
  },
  {
   "cell_type": "code",
   "execution_count": 11,
   "metadata": {},
   "outputs": [
    {
     "data": {
      "text/plain": [
       "array([[ -7.44382543,   9.49846433],\n",
       "       [-11.43435809,   7.36316562],\n",
       "       [ -7.40052242,   7.76038443],\n",
       "       [ -7.98628655,  11.21926618],\n",
       "       [-10.02128521,   6.06669832],\n",
       "       [ -9.55613918,   2.74445112],\n",
       "       [ -6.15724462,  17.96037679],\n",
       "       [ -6.60092627,  11.42265262],\n",
       "       [ -7.9519767 ,  11.36268265],\n",
       "       [-14.30448606,  13.48191273]])"
      ]
     },
     "execution_count": 11,
     "metadata": {},
     "output_type": "execute_result"
    }
   ],
   "source": [
    "kur1.evaluate(data_points,return_values_of=['F'])"
   ]
  },
  {
   "cell_type": "code",
   "execution_count": 12,
   "metadata": {},
   "outputs": [
    {
     "data": {
      "text/plain": [
       "array([[ -7.44382543,   9.49846433],\n",
       "       [-11.43435809,   7.36316562],\n",
       "       [ -7.40052242,   7.76038443],\n",
       "       [ -7.98628655,  11.21926618],\n",
       "       [-10.02128521,   6.06669832],\n",
       "       [ -9.55613918,   2.74445112],\n",
       "       [ -6.15724462,  17.96037679],\n",
       "       [ -6.60092627,  11.42265262],\n",
       "       [ -7.9519767 ,  11.36268265],\n",
       "       [-14.30448606,  13.48191273]])"
      ]
     },
     "execution_count": 12,
     "metadata": {},
     "output_type": "execute_result"
    }
   ],
   "source": [
    "kursawe.evaluate(data_points,return_values_of=['F'])"
   ]
  },
  {
   "cell_type": "code",
   "execution_count": 21,
   "metadata": {},
   "outputs": [
    {
     "data": {
      "text/plain": [
       "array([[0, 1, 2, 3]])"
      ]
     },
     "execution_count": 21,
     "metadata": {},
     "output_type": "execute_result"
    }
   ],
   "source": [
    "data_points = np.arange(0,4).reshape(-1,4)\n",
    "data_points"
   ]
  },
  {
   "cell_type": "code",
   "execution_count": 22,
   "metadata": {},
   "outputs": [],
   "source": [
    "x = data_points\n",
    "f1 = -(-np.power(x[:,0]-2,2)-np.power(x[:,1]+3,2)-np.power(x[:,2]-5,2)-np.power(x[:,3]-4,2)+5)\n",
    "f2 = -(np.sum(np.sin(x),axis=1)/(np.sum(np.power(x,2),axis=1)/100+1))"
   ]
  },
  {
   "cell_type": "code",
   "execution_count": null,
   "metadata": {},
   "outputs": [],
   "source": []
  }
 ],
 "metadata": {
  "interpreter": {
   "hash": "3b1e26b54b7d4f95427048740156c888929025ee39b830998746c549296318b0"
  },
  "kernelspec": {
   "display_name": "Python 3.8.6 64-bit ('gleb': conda)",
   "name": "python3"
  },
  "language_info": {
   "codemirror_mode": {
    "name": "ipython",
    "version": 3
   },
   "file_extension": ".py",
   "mimetype": "text/x-python",
   "name": "python",
   "nbconvert_exporter": "python",
   "pygments_lexer": "ipython3",
   "version": "3.8.6"
  },
  "orig_nbformat": 4
 },
 "nbformat": 4,
 "nbformat_minor": 2
}
