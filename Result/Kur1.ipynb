{
 "cells": [
  {
   "cell_type": "markdown",
   "metadata": {},
   "source": [
    "| Problem | Formula|Search Domain|\n",
    "|---      |----    |----|\n",
    "|ZDT1|${\\text{Min}}={\\begin{cases}f_{1}\\left(x\\right)=x_1\\\\h(f_1, g)= 1-\\sqrt{f1/g} \\\\\\end{cases}} \\text{   where}, g(x) = 1+ \\frac{9}{n-1}\\sum_{i=2}^{n}x_i$|$0\\leq{x_i}\\leq{1}, i=2, ...n$|\n",
    "|ZDT2|${\\text{Min}}={\\begin{cases}f_{1}\\left(x\\right)=x_1\\\\h(f_1, g)= 1-(f1/g)^2 \\\\\\end{cases}} \\text{  where}, g(x) = 1+ \\frac{9}{n-1}\\sum_{i=2}^{n}x_i$|$0\\leq{x_i}\\leq{1}, i=2, ...n$|\n",
    "|ZDT3|${\\text{Min}}={\\begin{cases}f_{1}\\left(x\\right)=x_1\\\\h(f_1, g)= 1-\\sqrt{f1/g}-(f_1/g)sin(10\\pi f_1) \\\\\\end{cases}} \\text{   where}, g(x) = 1+ \\frac{9}{n-1}\\sum_{i=2}^{n}x_i$|$0\\leq{x_i}\\leq{1}, i=2, ...n$|\n",
    "|VU1|${\\text{Min}}={\\begin{cases}f_{1}\\left(x_1, x_2\\right)=\\frac{1}{x^2_1+x^2_2+1}\\\\f_{2}\\left(x_1, x_2\\right)={x^2_1+3x^2_2+1}\\end{cases}}$|$-3\\leq{x_1,x_2}\\leq3$ |\n",
    "|VU2|${\\text{Min}}={\\begin{cases}f_{1}\\left(x_1, x_2\\right)=x_1+x_2+1\\\\f_{2}\\left(x_1, x_2\\right)={x^2_1+2x^2_2-1}\\end{cases}}$|$-3\\leq{x_1,x_2}\\leq3$ |\n",
    "|Kur1|${\\text{Min}}={\\begin{cases}f_{1}\\left(x_1,x_2,....,x_n\\right)=\\sum_{i=1}^{n-1}-10exp^{-0.2\\sqrt{x^2_{i}+x^2_{i+1}}}\\\\f_{2}\\left(x_1,x_2,....,x_n\\right)=\\sum^{n}_{i=1}\\|x_i\\|^{0.8}+5sinx_i^3\\\\\\end{cases}}$|$-5.05\\leq{x_i}\\leq{5}, i=1..n$|\n",
    "|TKLY1|${\\text{Min}}={\\begin{cases}f_{1}\\left(x_1\\right)=x_1+0.1\\\\f_{2}\\left(x_1,x_2,x_3,x_4\\right)={\\frac{1}{x_1+0.1}\\Pi_{i=2}^{4}[2.0-exp(-(\\frac{x_i-0.1}{0.004})^2)-0.8exp(-(\\frac{x_i-0.9}{0.4})^2)]}\\end{cases}}$|$0\\leq{x_1,x_2,x_3,x_4}\\leq1$ |\n",
    "|LTDZ1 |${\\text{Maximum}}={\\begin{cases}f_{1}\\left(x_1,x_2,x_3\\right)=3-(1+x_3)cos(x_1\\pi/2)cos(x_2\\pi/2)\\\\f_{2}\\left(x_1,x_2,x_3\\right)=3-(1+x_3)cos(x_1\\pi/2)sin(x_2\\pi/2)\\\\f_{3}\\left(x_1,x_3\\right)=3-(1+x_3)sin(x_1\\pi/2)\\end{cases}}$|$0\\leq{x_1,x_2,x_3}\\leq1$|\n",
    "|SK2 |${\\text{Maximum}}={\\begin{cases}f_{1}\\left(x\\right)=-(x_1-2)^2-(x_2+3)^2-(x_3-5)^2-(x_4-4)^2+5\\\\f_{2}\\left(x\\right)={\\frac{sinx_1+sinx_2+sinx_3+sinx_4}{1+(x_1^2+x_2^2+x_3^2+x_4^2)/100}}\\end{cases}}$|$-10\\leq{x_i}\\leq{10}, i=1..4$|\n",
    "|SK2_typo|${\\text{Maximum}}={\\begin{cases}f_{1}\\left(x\\right)=-(x_1-2)^2-(x_2-3)^2-(x_3-5)^2-(x_4-4)^2+5\\\\f_{2}\\left(x\\right)={\\frac{sinx_1+sinx_2+sinx_3+sinx_4}{1+(x_1^2+x_2^2+x_3^2+x_4^2)/100}}\\end{cases}}$|$-10\\leq{x_i}\\leq{10}, i=1..4$|\n",
    "\n"
   ]
  },
  {
   "cell_type": "markdown",
   "metadata": {},
   "source": [
    "# Kur1"
   ]
  },
  {
   "cell_type": "code",
   "execution_count": null,
   "metadata": {},
   "outputs": [],
   "source": []
  }
 ],
 "metadata": {
  "interpreter": {
   "hash": "3b1e26b54b7d4f95427048740156c888929025ee39b830998746c549296318b0"
  },
  "kernelspec": {
   "display_name": "Python 3.8.6 64-bit ('gleb': conda)",
   "name": "python3"
  },
  "language_info": {
   "codemirror_mode": {
    "name": "ipython",
    "version": 3
   },
   "file_extension": ".py",
   "mimetype": "text/x-python",
   "name": "python",
   "nbconvert_exporter": "python",
   "pygments_lexer": "ipython3",
   "version": "3.8.6"
  },
  "orig_nbformat": 4
 },
 "nbformat": 4,
 "nbformat_minor": 2
}
