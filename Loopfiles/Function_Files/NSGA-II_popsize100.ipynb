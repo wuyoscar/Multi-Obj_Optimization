{
 "metadata": {
  "language_info": {
   "codemirror_mode": {
    "name": "ipython",
    "version": 3
   },
   "file_extension": ".py",
   "mimetype": "text/x-python",
   "name": "python",
   "nbconvert_exporter": "python",
   "pygments_lexer": "ipython3",
   "version": "3.8.5"
  },
  "orig_nbformat": 2,
  "kernelspec": {
   "name": "python385jvsc74a57bd0b1858a2a5e6d37bd6640d37503bc61c231a3e6fa2195a00b6c59e7ee672ce886",
   "display_name": "Python 3.8.5 64-bit ('gleb_project': conda)"
  },
  "metadata": {
   "interpreter": {
    "hash": "b1858a2a5e6d37bd6640d37503bc61c231a3e6fa2195a00b6c59e7ee672ce886"
   }
  }
 },
 "nbformat": 4,
 "nbformat_minor": 2,
 "cells": [
  {
   "source": [
    "# NSGA-II deal with problems"
   ],
   "cell_type": "markdown",
   "metadata": {}
  },
  {
   "cell_type": "code",
   "execution_count": 92,
   "metadata": {},
   "outputs": [
    {
     "output_type": "stream",
     "name": "stdout",
     "text": [
      "------------------------------------------------------------\n",
      "problem is:\n",
      " # name: BNH\n",
      "# n_var: 2\n",
      "# n_obj: 2\n",
      "# n_constr: 2\n",
      "\n",
      "\n",
      "Time elapsed for solving problem:  4.669158220291138  seconds\n",
      "\n",
      "Best solution found (200, 2) given population size : 200\n",
      "Function value: (200, 2)\n",
      "Constraint violation: (200, 1)\n",
      "Give search domain -1.8561099816105582 - 0.38986557029216895 with 303 data points\n",
      "170 data points is feasible and 133 is infeasiebl\n",
      "------------------------------------------------------------\n",
      "problem is:\n",
      " # name: OSY\n",
      "# n_var: 6\n",
      "# n_obj: 2\n",
      "# n_constr: 6\n",
      "\n",
      "\n",
      "Time elapsed for solving problem:  4.204625129699707  seconds\n",
      "\n",
      "Best solution found (200, 6) given population size : 200\n",
      "Function value: (200, 2)\n",
      "Constraint violation: (200, 1)\n",
      "Give search domain -4.251542522655721 - -3.1075039115567558 with 179 data points\n",
      "0 data points is feasible and 179 is infeasiebl\n"
     ]
    }
   ],
   "source": [
    "from pymoo.algorithms.nsga2 import NSGA2\n",
    "from pymoo.factory import get_sampling, get_crossover, get_mutation, get_termination\n",
    "from pymoo.factory import get_problem\n",
    "from pymoo.optimize import minimize\n",
    "from pymoo.visualization.scatter import Scatter\n",
    "import numpy as np\n",
    "import time\n",
    "import sys\n",
    "\n",
    "#for path in sys.path:\n",
    "#    print(path)\n",
    "##add module path if necessary \n",
    "sys.path.append(r\"/Users/wuyoscar/Documents/Project/MOOP/function_files/\")\n",
    "#\n",
    "from problems import split_X\n",
    "\n",
    "def random_pick_X(n_var = 2, bound = [0,1], datasize=None):\n",
    "    a = bound[0]\n",
    "    b = bound[1]\n",
    "\n",
    "    rng = np.random.default_rng(seed=22)\n",
    "\n",
    "    \n",
    "    X = (b-a)*rng.random((datasize, n_var)) +a\n",
    "\n",
    "    return X\n",
    "\n",
    "problem_list = ['BNH', 'OSY', 'TNK', 'Truss2D', 'Welded_Beam', 'zdt1','ZDT2','ZDT3','ZDT4','ZDT5','ZDT6']\n",
    "\n",
    "#select two for test in this case\n",
    "select_problem_list = ['BNH', 'OSY']\n",
    "\n",
    "problem_dict = {}\n",
    "\n",
    "\n",
    "for problem in select_problem_list:\n",
    "    print('-'*60)\n",
    "    p = get_problem(problem)\n",
    "    print('problem is:\\n',p)\n",
    "    \n",
    "    #algorithm parameters\n",
    "\n",
    "\n",
    "    pop_size= 200\n",
    "    algorithm = NSGA2(\n",
    "    pop_size= pop_size,\n",
    "    n_offspring = 10,\n",
    "#  crossover=get_crossover(\"real_sbx\", prob=0.9, eta=15),\n",
    "#  mutation=get_mutation(\"real_pm\", eta=20),\n",
    "   eliminate_duplicates=True \n",
    ")\n",
    "\n",
    "\n",
    "    termination = get_termination(\"n_gen\", 300)\n",
    "    start = time.time()\n",
    "    res = minimize(p,\n",
    "            algorithm,\n",
    "            termination,\n",
    "            seed=1,\n",
    "            save_history=True,\n",
    "            verbose=False\n",
    "            )\n",
    "    print('\\nTime elapsed for solving problem: ', time.time() - start, ' seconds\\n')\n",
    "    problem_dict[problem] = {'Solution':np.array(res.X), 'Obj_value':np.array(res.F), 'CV':np.array(res.CV)}\n",
    "    \n",
    "    \n",
    "    print(\"Best solution found {} given population size : {}\".format(res.X.shape,pop_size)) #pareto solution set \n",
    "    print(\"Function value: {}\".format(res.F.shape)) #object function value \n",
    "    print(\"Constraint violation: {}\".format(res.CV.shape)) \n",
    "\n",
    "    bound = np.random.uniform(-5,5,2)\n",
    "    datasize = np.random.randint(1000)\n",
    "    \n",
    "    X = random_pick_X(p.n_var, bound = bound, datasize=datasize)\n",
    "\n",
    "    problem_result = p.evaluate(X)\n",
    "    \n",
    "    split_X(X, problem_result[0], problem_result[1]) "
   ]
  },
  {
   "cell_type": "code",
   "execution_count": null,
   "metadata": {},
   "outputs": [],
   "source": [
    "def random_pick_X(n_var = None, bound = None, datasize=None):\n",
    "    a = bound[0]\n",
    "    b = bound[1]\n",
    "\n",
    "    rng = np.random.default_rng(seed=22)\n",
    "    X = (b-a)*rng.random((datasize, n_var)) +a\n",
    "\n",
    "    return X\n",
    "\n",
    "random_pick_X"
   ]
  },
  {
   "cell_type": "code",
   "execution_count": 95,
   "metadata": {},
   "outputs": [
    {
     "output_type": "execute_result",
     "data": {
      "text/plain": [
       "(300, 2)"
      ]
     },
     "metadata": {},
     "execution_count": 95
    }
   ],
   "source": [
    "random_pick_X(2,[0,3],300).shape"
   ]
  },
  {
   "cell_type": "code",
   "execution_count": 145,
   "metadata": {},
   "outputs": [
    {
     "output_type": "execute_result",
     "data": {
      "text/plain": [
       "-892"
      ]
     },
     "metadata": {},
     "execution_count": 145
    }
   ],
   "source": [
    "-np.random.randint(1000)"
   ]
  },
  {
   "cell_type": "code",
   "execution_count": 6,
   "metadata": {},
   "outputs": [
    {
     "output_type": "stream",
     "name": "stdout",
     "text": [
      "/Users/wuyoscar/Documents/Project/MOOP/Result/s2_\n/Users/wuyoscar/Documents/Project/MOOP/Result/d2_\n"
     ]
    },
    {
     "output_type": "error",
     "ename": "TypeError",
     "evalue": "can only concatenate str (not \"int\") to str",
     "traceback": [
      "\u001b[0;31m---------------------------------------------------------------------------\u001b[0m",
      "\u001b[0;31mTypeError\u001b[0m                                 Traceback (most recent call last)",
      "\u001b[0;32m<ipython-input-6-4b7d9f6dc58a>\u001b[0m in \u001b[0;36m<module>\u001b[0;34m\u001b[0m\n\u001b[1;32m      8\u001b[0m \u001b[0;31m#optimal_solution_set = path + 'NSGA-ch_problem_ps_X.txt'\u001b[0m\u001b[0;34m\u001b[0m\u001b[0;34m\u001b[0m\u001b[0;34m\u001b[0m\u001b[0m\n\u001b[1;32m      9\u001b[0m \u001b[0;32mfor\u001b[0m \u001b[0mi\u001b[0m \u001b[0;32min\u001b[0m \u001b[0;34m[\u001b[0m\u001b[0;34m's'\u001b[0m\u001b[0;34m,\u001b[0m\u001b[0;34m'd'\u001b[0m\u001b[0;34m,\u001b[0m\u001b[0;36m100\u001b[0m\u001b[0;34m]\u001b[0m\u001b[0;34m:\u001b[0m\u001b[0;34m\u001b[0m\u001b[0;34m\u001b[0m\u001b[0m\n\u001b[0;32m---> 10\u001b[0;31m     \u001b[0mprint\u001b[0m\u001b[0;34m(\u001b[0m\u001b[0mpath\u001b[0m \u001b[0;34m+\u001b[0m \u001b[0mi\u001b[0m \u001b[0;34m+\u001b[0m \u001b[0;34m'2'\u001b[0m \u001b[0;34m+\u001b[0m \u001b[0;34m'_'\u001b[0m\u001b[0;34m)\u001b[0m\u001b[0;34m\u001b[0m\u001b[0;34m\u001b[0m\u001b[0m\n\u001b[0m",
      "\u001b[0;31mTypeError\u001b[0m: can only concatenate str (not \"int\") to str"
     ]
    }
   ],
   "source": [
    "\n",
    "path = '/Users/wuyoscar/Documents/Project/MOOP/Result/'\n",
    "\n",
    "\n",
    "#received_X_file = path+'NSGA-ch_problem_X.txt'\n",
    "#input_infeas_file=path+'NSGA-ch_problem_infeasible_X.txt'\n",
    "#input_feas_file=path+'NSGA-ch_problem_feasible_X.txt'\n",
    "\n",
    "#optimal_solution_set = path + 'NSGA-ch_problem_ps_X.txt'\n",
    "for i in ['s','d',100]:\n",
    "    print(path + i + '2' + '_')"
   ]
  },
  {
   "cell_type": "code",
   "execution_count": 9,
   "metadata": {},
   "outputs": [
    {
     "output_type": "execute_result",
     "data": {
      "text/plain": [
       "'/home/hel/s'"
      ]
     },
     "metadata": {},
     "execution_count": 9
    }
   ],
   "source": [
    "import os \n",
    "path = \"/home\"\n",
    "os.path.join(path, 'hel','')"
   ]
  },
  {
   "cell_type": "code",
   "execution_count": 23,
   "metadata": {},
   "outputs": [
    {
     "output_type": "execute_result",
     "data": {
      "text/plain": [
       "array([-2,  1])"
      ]
     },
     "metadata": {},
     "execution_count": 23
    }
   ],
   "source": [
    "import numpy as np \n",
    "np.random.randint(-10,10,2)"
   ]
  },
  {
   "cell_type": "code",
   "execution_count": null,
   "metadata": {},
   "outputs": [],
   "source": []
  },
  {
   "cell_type": "code",
   "execution_count": null,
   "metadata": {},
   "outputs": [],
   "source": []
  }
 ]
}