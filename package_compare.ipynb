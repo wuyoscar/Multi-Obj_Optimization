{
 "cells": [
  {
   "cell_type": "code",
   "execution_count": 1,
   "source": [
    "import array\n",
    "import random\n",
    "from deap import base\n",
    "from deap import creator\n",
    "from deap import tools\n",
    "import numpy as np\n",
    "import matplotlib.pyplot as plt\n",
    "import time"
   ],
   "outputs": [],
   "metadata": {}
  },
  {
   "cell_type": "code",
   "execution_count": 8,
   "source": [
    "from pymoo.algorithms.nsga3 import NSGA3\n",
    "from pymoo.factory import get_problem, get_reference_directions\n",
    "from pymoo.optimize import minimize\n",
    "from pymoo.visualization.scatter import Scatter\n",
    "import time\n",
    "\n",
    "# create the reference directions to be used for the optimization\n",
    "M = 3\n",
    "ref_dirs = get_reference_directions(\"das-dennis\", M, n_partitions=12)\n",
    "N = ref_dirs.shape[0]\n",
    "# create the algorithm object\n",
    "algorithm = NSGA3(pop_size=N,\n",
    "                ref_dirs=ref_dirs)\n",
    "start = time.time()\n",
    "# execute the optimization\n",
    "res = minimize(get_problem(\"dtlz1\", n_obj = M),\n",
    "            algorithm,\n",
    "            termination=('n_gen', 500))\n",
    "end = time.time()\n",
    "Scatter().add(res.F).show()\n",
    "print('耗时：', end - start, '秒')"
   ],
   "outputs": [
    {
     "output_type": "error",
     "ename": "SyntaxError",
     "evalue": "invalid syntax (1621797249.py, line 18)",
     "traceback": [
      "\u001b[0;36m  File \u001b[0;32m\"/var/folders/tc/s1vsgctn4gn_n76ylgwmdwrw0000gn/T/ipykernel_12985/1621797249.py\"\u001b[0;36m, line \u001b[0;32m18\u001b[0m\n\u001b[0;31m    Z termination=('n_gen', 500))\u001b[0m\n\u001b[0m      ^\u001b[0m\n\u001b[0;31mSyntaxError\u001b[0m\u001b[0;31m:\u001b[0m invalid syntax\n"
     ]
    }
   ],
   "metadata": {}
  },
  {
   "cell_type": "code",
   "execution_count": 7,
   "source": [],
   "outputs": [
    {
     "output_type": "execute_result",
     "data": {
      "text/plain": [
       "(91, 3)"
      ]
     },
     "metadata": {},
     "execution_count": 7
    }
   ],
   "metadata": {}
  },
  {
   "cell_type": "code",
   "execution_count": null,
   "source": [],
   "outputs": [],
   "metadata": {}
  }
 ],
 "metadata": {
  "orig_nbformat": 4,
  "language_info": {
   "name": "python"
  }
 },
 "nbformat": 4,
 "nbformat_minor": 2
}